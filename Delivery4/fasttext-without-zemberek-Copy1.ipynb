{
 "cells": [
  {
   "cell_type": "code",
   "execution_count": 19,
   "id": "eeda78e8",
   "metadata": {},
   "outputs": [],
   "source": [
    "import random\n",
    "import numpy\n",
    "import fasttext\n",
    "from nltk.corpus import stopwords\n",
    "import csv\n",
    "import re\n",
    "import pandas as pd\n",
    "from sklearn.model_selection import train_test_split\n",
    "from sklearn.metrics import  f1_score, precision_score, recall_score, accuracy_score\n",
    "from sklearn.metrics import confusion_matrix\n",
    "from sklearn.metrics import classification_report\n",
    "import re"
   ]
  },
  {
   "cell_type": "code",
   "execution_count": 20,
   "id": "cbd29333",
   "metadata": {},
   "outputs": [
    {
     "data": {
      "text/html": [
       "<div>\n",
       "<style scoped>\n",
       "    .dataframe tbody tr th:only-of-type {\n",
       "        vertical-align: middle;\n",
       "    }\n",
       "\n",
       "    .dataframe tbody tr th {\n",
       "        vertical-align: top;\n",
       "    }\n",
       "\n",
       "    .dataframe thead th {\n",
       "        text-align: right;\n",
       "    }\n",
       "</style>\n",
       "<table border=\"1\" class=\"dataframe\">\n",
       "  <thead>\n",
       "    <tr style=\"text-align: right;\">\n",
       "      <th></th>\n",
       "      <th>ictihat</th>\n",
       "      <th>Mahkeme</th>\n",
       "    </tr>\n",
       "  </thead>\n",
       "  <tbody>\n",
       "    <tr>\n",
       "      <th>0</th>\n",
       "      <td>Kasten basit yaralama suçundan sanık ...'nin,...</td>\n",
       "      <td>EMPTY</td>\n",
       "    </tr>\n",
       "    <tr>\n",
       "      <th>1</th>\n",
       "      <td>Taraflar arasında görülen ve yukarıda açı...</td>\n",
       "      <td>Asliye Hukuk Mahkemesi</td>\n",
       "    </tr>\n",
       "    <tr>\n",
       "      <th>2</th>\n",
       "      <td>(5237 S. K. m. 53) (5271 S. K. m. 288, 289, 2...</td>\n",
       "      <td>EMPTY</td>\n",
       "    </tr>\n",
       "    <tr>\n",
       "      <th>3</th>\n",
       "      <td>BÖLGE ADLİYE MAHKEMESİ:... 5. Hukuk Dairesi  ...</td>\n",
       "      <td>EMPTY</td>\n",
       "    </tr>\n",
       "    <tr>\n",
       "      <th>4</th>\n",
       "      <td>Taraflar arasında görülen davada;  Davacı...</td>\n",
       "      <td>OTHERS</td>\n",
       "    </tr>\n",
       "  </tbody>\n",
       "</table>\n",
       "</div>"
      ],
      "text/plain": [
       "                                             ictihat                 Mahkeme\n",
       "0   Kasten basit yaralama suçundan sanık ...'nin,...                   EMPTY\n",
       "1       Taraflar arasında görülen ve yukarıda açı...  Asliye Hukuk Mahkemesi\n",
       "2   (5237 S. K. m. 53) (5271 S. K. m. 288, 289, 2...                   EMPTY\n",
       "3   BÖLGE ADLİYE MAHKEMESİ:... 5. Hukuk Dairesi  ...                   EMPTY\n",
       "4       Taraflar arasında görülen davada;  Davacı...                  OTHERS"
      ]
     },
     "execution_count": 20,
     "metadata": {},
     "output_type": "execute_result"
    }
   ],
   "source": [
    "path_csv_file = \"deneme.csv\"\n",
    "\n",
    "df = pd.read_csv(path_csv_file)\n",
    "df.head()"
   ]
  },
  {
   "cell_type": "code",
   "execution_count": 21,
   "id": "e5cff328",
   "metadata": {},
   "outputs": [
    {
     "data": {
      "text/html": [
       "<div>\n",
       "<style scoped>\n",
       "    .dataframe tbody tr th:only-of-type {\n",
       "        vertical-align: middle;\n",
       "    }\n",
       "\n",
       "    .dataframe tbody tr th {\n",
       "        vertical-align: top;\n",
       "    }\n",
       "\n",
       "    .dataframe thead th {\n",
       "        text-align: right;\n",
       "    }\n",
       "</style>\n",
       "<table border=\"1\" class=\"dataframe\">\n",
       "  <thead>\n",
       "    <tr style=\"text-align: right;\">\n",
       "      <th></th>\n",
       "      <th>ictihat</th>\n",
       "      <th>Mahkeme</th>\n",
       "      <th>NUM_LABEL</th>\n",
       "    </tr>\n",
       "  </thead>\n",
       "  <tbody>\n",
       "    <tr>\n",
       "      <th>0</th>\n",
       "      <td>Kasten basit yaralama suçundan sanık ...'nin,...</td>\n",
       "      <td>EMPTY</td>\n",
       "      <td>0</td>\n",
       "    </tr>\n",
       "    <tr>\n",
       "      <th>1</th>\n",
       "      <td>Taraflar arasında görülen ve yukarıda açı...</td>\n",
       "      <td>Asliye Hukuk Mahkemesi</td>\n",
       "      <td>1</td>\n",
       "    </tr>\n",
       "    <tr>\n",
       "      <th>2</th>\n",
       "      <td>(5237 S. K. m. 53) (5271 S. K. m. 288, 289, 2...</td>\n",
       "      <td>EMPTY</td>\n",
       "      <td>0</td>\n",
       "    </tr>\n",
       "    <tr>\n",
       "      <th>3</th>\n",
       "      <td>BÖLGE ADLİYE MAHKEMESİ:... 5. Hukuk Dairesi  ...</td>\n",
       "      <td>EMPTY</td>\n",
       "      <td>0</td>\n",
       "    </tr>\n",
       "    <tr>\n",
       "      <th>4</th>\n",
       "      <td>Taraflar arasında görülen davada;  Davacı...</td>\n",
       "      <td>OTHERS</td>\n",
       "      <td>2</td>\n",
       "    </tr>\n",
       "  </tbody>\n",
       "</table>\n",
       "</div>"
      ],
      "text/plain": [
       "                                             ictihat                 Mahkeme  \\\n",
       "0   Kasten basit yaralama suçundan sanık ...'nin,...                   EMPTY   \n",
       "1       Taraflar arasında görülen ve yukarıda açı...  Asliye Hukuk Mahkemesi   \n",
       "2   (5237 S. K. m. 53) (5271 S. K. m. 288, 289, 2...                   EMPTY   \n",
       "3   BÖLGE ADLİYE MAHKEMESİ:... 5. Hukuk Dairesi  ...                   EMPTY   \n",
       "4       Taraflar arasında görülen davada;  Davacı...                  OTHERS   \n",
       "\n",
       "   NUM_LABEL  \n",
       "0          0  \n",
       "1          1  \n",
       "2          0  \n",
       "3          0  \n",
       "4          2  "
      ]
     },
     "execution_count": 21,
     "metadata": {},
     "output_type": "execute_result"
    }
   ],
   "source": [
    "label_map = {}\n",
    "count = 0\n",
    "for label in df.Mahkeme.unique():\n",
    "    label_map[label] = count\n",
    "    count += 1\n",
    "df['NUM_LABEL'] = df.Mahkeme.map(label_map)\n",
    "#print(label_map)\n",
    "df.head()"
   ]
  },
  {
   "cell_type": "code",
   "execution_count": 22,
   "id": "c8ca5d74",
   "metadata": {},
   "outputs": [
    {
     "data": {
      "text/plain": [
       "ictihat      8\n",
       "Mahkeme      0\n",
       "NUM_LABEL    0\n",
       "dtype: int64"
      ]
     },
     "execution_count": 22,
     "metadata": {},
     "output_type": "execute_result"
    }
   ],
   "source": [
    "df.isnull().sum()"
   ]
  },
  {
   "cell_type": "code",
   "execution_count": 23,
   "id": "56aeb887",
   "metadata": {},
   "outputs": [],
   "source": [
    "df = df.dropna(how='any',axis=0)"
   ]
  },
  {
   "cell_type": "code",
   "execution_count": 24,
   "id": "76e40623",
   "metadata": {},
   "outputs": [
    {
     "data": {
      "text/plain": [
       "ictihat      0\n",
       "Mahkeme      0\n",
       "NUM_LABEL    0\n",
       "dtype: int64"
      ]
     },
     "execution_count": 24,
     "metadata": {},
     "output_type": "execute_result"
    }
   ],
   "source": [
    "df.isnull().sum()"
   ]
  },
  {
   "cell_type": "code",
   "execution_count": 25,
   "id": "0d04de18",
   "metadata": {},
   "outputs": [],
   "source": [
    "def clean_text(text):\n",
    "    alphabetic_only = [word for word in text.split() if word.isalpha()]\n",
    "    lower_case_only = [word.lower() for word in alphabetic_only]\n",
    "    stopwords_tr = set(stopwords.words(\"turkish\"))    \n",
    "    return [word for word in lower_case_only if word not in stopwords_tr]"
   ]
  },
  {
   "cell_type": "code",
   "execution_count": 26,
   "id": "3d1cdceb",
   "metadata": {},
   "outputs": [
    {
     "data": {
      "text/html": [
       "<div>\n",
       "<style scoped>\n",
       "    .dataframe tbody tr th:only-of-type {\n",
       "        vertical-align: middle;\n",
       "    }\n",
       "\n",
       "    .dataframe tbody tr th {\n",
       "        vertical-align: top;\n",
       "    }\n",
       "\n",
       "    .dataframe thead th {\n",
       "        text-align: right;\n",
       "    }\n",
       "</style>\n",
       "<table border=\"1\" class=\"dataframe\">\n",
       "  <thead>\n",
       "    <tr style=\"text-align: right;\">\n",
       "      <th></th>\n",
       "      <th>ictihat</th>\n",
       "      <th>NUM_LABEL</th>\n",
       "    </tr>\n",
       "  </thead>\n",
       "  <tbody>\n",
       "    <tr>\n",
       "      <th>0</th>\n",
       "      <td>kasten basit yaralama suçundan sanık sayılı tü...</td>\n",
       "      <td>0</td>\n",
       "    </tr>\n",
       "    <tr>\n",
       "      <th>1</th>\n",
       "      <td>taraflar arasında görülen yukarıda açıklanan d...</td>\n",
       "      <td>1</td>\n",
       "    </tr>\n",
       "    <tr>\n",
       "      <th>2</th>\n",
       "      <td>dosya gereği̇ görüşülüp dosya kapsamına temyiz...</td>\n",
       "      <td>0</td>\n",
       "    </tr>\n",
       "    <tr>\n",
       "      <th>3</th>\n",
       "      <td>bölge adli̇ye hukuk dairesi taraflar arasında ...</td>\n",
       "      <td>0</td>\n",
       "    </tr>\n",
       "    <tr>\n",
       "      <th>4</th>\n",
       "      <td>taraflar arasında görülen mirasbırakanları par...</td>\n",
       "      <td>2</td>\n",
       "    </tr>\n",
       "    <tr>\n",
       "      <th>...</th>\n",
       "      <td>...</td>\n",
       "      <td>...</td>\n",
       "    </tr>\n",
       "    <tr>\n",
       "      <th>27846</th>\n",
       "      <td>taraflar arasında görülen çekişme konusu ada p...</td>\n",
       "      <td>2</td>\n",
       "    </tr>\n",
       "    <tr>\n",
       "      <th>27847</th>\n",
       "      <td>taraflar arasında görülen mirasbırakan abisi p...</td>\n",
       "      <td>2</td>\n",
       "    </tr>\n",
       "    <tr>\n",
       "      <th>27848</th>\n",
       "      <td>taraflar arasında görülen kimliği belirsiz kiş...</td>\n",
       "      <td>2</td>\n",
       "    </tr>\n",
       "    <tr>\n",
       "      <th>27849</th>\n",
       "      <td>taraflar arasındaki davadan dolayı bölge adliy...</td>\n",
       "      <td>2</td>\n",
       "    </tr>\n",
       "    <tr>\n",
       "      <th>27850</th>\n",
       "      <td>taraflar arasındaki davadan dolayı asliye huku...</td>\n",
       "      <td>2</td>\n",
       "    </tr>\n",
       "  </tbody>\n",
       "</table>\n",
       "<p>27843 rows × 2 columns</p>\n",
       "</div>"
      ],
      "text/plain": [
       "                                                 ictihat  NUM_LABEL\n",
       "0      kasten basit yaralama suçundan sanık sayılı tü...          0\n",
       "1      taraflar arasında görülen yukarıda açıklanan d...          1\n",
       "2      dosya gereği̇ görüşülüp dosya kapsamına temyiz...          0\n",
       "3      bölge adli̇ye hukuk dairesi taraflar arasında ...          0\n",
       "4      taraflar arasında görülen mirasbırakanları par...          2\n",
       "...                                                  ...        ...\n",
       "27846  taraflar arasında görülen çekişme konusu ada p...          2\n",
       "27847  taraflar arasında görülen mirasbırakan abisi p...          2\n",
       "27848  taraflar arasında görülen kimliği belirsiz kiş...          2\n",
       "27849  taraflar arasındaki davadan dolayı bölge adliy...          2\n",
       "27850  taraflar arasındaki davadan dolayı asliye huku...          2\n",
       "\n",
       "[27843 rows x 2 columns]"
      ]
     },
     "execution_count": 26,
     "metadata": {},
     "output_type": "execute_result"
    }
   ],
   "source": [
    "df.iloc[:, 0] = df.iloc[:, 0].apply(lambda x: \" \".join(clean_text(x)))\n",
    "df = df[['ictihat', 'NUM_LABEL']]\n",
    "df"
   ]
  },
  {
   "cell_type": "code",
   "execution_count": 27,
   "id": "f69b270c",
   "metadata": {},
   "outputs": [
    {
     "data": {
      "text/html": [
       "<div>\n",
       "<style scoped>\n",
       "    .dataframe tbody tr th:only-of-type {\n",
       "        vertical-align: middle;\n",
       "    }\n",
       "\n",
       "    .dataframe tbody tr th {\n",
       "        vertical-align: top;\n",
       "    }\n",
       "\n",
       "    .dataframe thead th {\n",
       "        text-align: right;\n",
       "    }\n",
       "</style>\n",
       "<table border=\"1\" class=\"dataframe\">\n",
       "  <thead>\n",
       "    <tr style=\"text-align: right;\">\n",
       "      <th></th>\n",
       "      <th>ictihat</th>\n",
       "      <th>NUM_LABEL</th>\n",
       "    </tr>\n",
       "  </thead>\n",
       "  <tbody>\n",
       "    <tr>\n",
       "      <th>0</th>\n",
       "      <td>kasten basit yaralama suçundan sanık sayılı tü...</td>\n",
       "      <td>__label__0</td>\n",
       "    </tr>\n",
       "    <tr>\n",
       "      <th>1</th>\n",
       "      <td>taraflar arasında görülen yukarıda açıklanan d...</td>\n",
       "      <td>__label__1</td>\n",
       "    </tr>\n",
       "    <tr>\n",
       "      <th>2</th>\n",
       "      <td>dosya gereği̇ görüşülüp dosya kapsamına temyiz...</td>\n",
       "      <td>__label__0</td>\n",
       "    </tr>\n",
       "    <tr>\n",
       "      <th>3</th>\n",
       "      <td>bölge adli̇ye hukuk dairesi taraflar arasında ...</td>\n",
       "      <td>__label__0</td>\n",
       "    </tr>\n",
       "    <tr>\n",
       "      <th>4</th>\n",
       "      <td>taraflar arasında görülen mirasbırakanları par...</td>\n",
       "      <td>__label__2</td>\n",
       "    </tr>\n",
       "  </tbody>\n",
       "</table>\n",
       "</div>"
      ],
      "text/plain": [
       "                                             ictihat   NUM_LABEL\n",
       "0  kasten basit yaralama suçundan sanık sayılı tü...  __label__0\n",
       "1  taraflar arasında görülen yukarıda açıklanan d...  __label__1\n",
       "2  dosya gereği̇ görüşülüp dosya kapsamına temyiz...  __label__0\n",
       "3  bölge adli̇ye hukuk dairesi taraflar arasında ...  __label__0\n",
       "4  taraflar arasında görülen mirasbırakanları par...  __label__2"
      ]
     },
     "execution_count": 27,
     "metadata": {},
     "output_type": "execute_result"
    }
   ],
   "source": [
    "df_labeled = df.copy()\n",
    "df_labeled['NUM_LABEL'] = '__label__' + df_labeled['NUM_LABEL'].astype(str)\n",
    "df_labeled.head()"
   ]
  },
  {
   "cell_type": "code",
   "execution_count": 28,
   "id": "74ef3ebb",
   "metadata": {},
   "outputs": [
    {
     "data": {
      "text/plain": [
       "0        __label__0 kasten basit yaralama suçundan sanı...\n",
       "1        __label__1 taraflar arasında görülen yukarıda ...\n",
       "2        __label__0 dosya gereği̇ görüşülüp dosya kapsa...\n",
       "3        __label__0 bölge adli̇ye hukuk dairesi tarafla...\n",
       "4        __label__2 taraflar arasında görülen mirasbıra...\n",
       "                               ...                        \n",
       "27846    __label__2 taraflar arasında görülen çekişme k...\n",
       "27847    __label__2 taraflar arasında görülen mirasbıra...\n",
       "27848    __label__2 taraflar arasında görülen kimliği b...\n",
       "27849    __label__2 taraflar arasındaki davadan dolayı ...\n",
       "27850    __label__2 taraflar arasındaki davadan dolayı ...\n",
       "Length: 27843, dtype: object"
      ]
     },
     "execution_count": 28,
     "metadata": {},
     "output_type": "execute_result"
    }
   ],
   "source": [
    "ictihat_label = df_labeled['NUM_LABEL'] + \" \" + df_labeled['ictihat']\n",
    "ictihat_label"
   ]
  },
  {
   "cell_type": "code",
   "execution_count": 29,
   "id": "072fdb73",
   "metadata": {},
   "outputs": [],
   "source": [
    "train, test = train_test_split(ictihat_label, test_size=0.2, random_state=42)"
   ]
  },
  {
   "cell_type": "code",
   "execution_count": 30,
   "id": "b8b4e054",
   "metadata": {},
   "outputs": [],
   "source": [
    "#write test and train into files\n",
    "f_train = open(\"train.txt\", \"w\", encoding='utf-8')\n",
    "for i in range(len(numpy.array(train))):\n",
    "    f_train.write(numpy.array(train)[i] + \"\\n\")\n",
    "f_train.close()\n",
    "\n",
    "f_test = open(\"test.txt\", \"w\",  encoding='utf-8')\n",
    "for i in range(len(numpy.array(test))):\n",
    "    f_test.write(numpy.array(test)[i] + \"\\n\")\n",
    "f_test.close()"
   ]
  },
  {
   "cell_type": "code",
   "execution_count": 31,
   "id": "371e98a1",
   "metadata": {},
   "outputs": [],
   "source": [
    "model = fasttext.train_supervised(input=\"train.txt\", epoch=10,  lr=0.5, loss='ova')"
   ]
  },
  {
   "cell_type": "code",
   "execution_count": 32,
   "id": "2efb8165",
   "metadata": {},
   "outputs": [
    {
     "data": {
      "text/plain": [
       "(5569, 0.8838211528101994, 0.8838211528101994)"
      ]
     },
     "execution_count": 32,
     "metadata": {},
     "output_type": "execute_result"
    }
   ],
   "source": [
    "result = model.test(\"test.txt\") #(n, precision, recall)\n",
    "result"
   ]
  },
  {
   "cell_type": "code",
   "execution_count": 33,
   "id": "5cb2c428",
   "metadata": {},
   "outputs": [],
   "source": [
    "test_file = \"test.txt\""
   ]
  },
  {
   "cell_type": "code",
   "execution_count": 34,
   "id": "17b1fdfd",
   "metadata": {},
   "outputs": [
    {
     "ename": "ValueError",
     "evalue": "Found input variables with inconsistent numbers of samples: [8, 3]",
     "output_type": "error",
     "traceback": [
      "\u001b[1;31m---------------------------------------------------------------------------\u001b[0m",
      "\u001b[1;31mValueError\u001b[0m                                Traceback (most recent call last)",
      "Input \u001b[1;32mIn [34]\u001b[0m, in \u001b[0;36m<cell line: 1>\u001b[1;34m()\u001b[0m\n\u001b[1;32m----> 1\u001b[0m \u001b[43mclassification_report\u001b[49m\u001b[43m(\u001b[49m\u001b[43mtest_file\u001b[49m\u001b[43m,\u001b[49m\u001b[43m \u001b[49m\u001b[43mresult\u001b[49m\u001b[43m,\u001b[49m\u001b[43m \u001b[49m\u001b[43mzero_division\u001b[49m\u001b[38;5;241;43m=\u001b[39;49m\u001b[38;5;241;43m1\u001b[39;49m\u001b[43m)\u001b[49m\n",
      "File \u001b[1;32m~\\AppData\\Local\\Programs\\Python\\Python39\\lib\\site-packages\\sklearn\\metrics\\_classification.py:2110\u001b[0m, in \u001b[0;36mclassification_report\u001b[1;34m(y_true, y_pred, labels, target_names, sample_weight, digits, output_dict, zero_division)\u001b[0m\n\u001b[0;32m   1998\u001b[0m \u001b[38;5;28;01mdef\u001b[39;00m \u001b[38;5;21mclassification_report\u001b[39m(\n\u001b[0;32m   1999\u001b[0m     y_true,\n\u001b[0;32m   2000\u001b[0m     y_pred,\n\u001b[1;32m   (...)\u001b[0m\n\u001b[0;32m   2007\u001b[0m     zero_division\u001b[38;5;241m=\u001b[39m\u001b[38;5;124m\"\u001b[39m\u001b[38;5;124mwarn\u001b[39m\u001b[38;5;124m\"\u001b[39m,\n\u001b[0;32m   2008\u001b[0m ):\n\u001b[0;32m   2009\u001b[0m     \u001b[38;5;124;03m\"\"\"Build a text report showing the main classification metrics.\u001b[39;00m\n\u001b[0;32m   2010\u001b[0m \n\u001b[0;32m   2011\u001b[0m \u001b[38;5;124;03m    Read more in the :ref:`User Guide <classification_report>`.\u001b[39;00m\n\u001b[1;32m   (...)\u001b[0m\n\u001b[0;32m   2107\u001b[0m \u001b[38;5;124;03m    <BLANKLINE>\u001b[39;00m\n\u001b[0;32m   2108\u001b[0m \u001b[38;5;124;03m    \"\"\"\u001b[39;00m\n\u001b[1;32m-> 2110\u001b[0m     y_type, y_true, y_pred \u001b[38;5;241m=\u001b[39m \u001b[43m_check_targets\u001b[49m\u001b[43m(\u001b[49m\u001b[43my_true\u001b[49m\u001b[43m,\u001b[49m\u001b[43m \u001b[49m\u001b[43my_pred\u001b[49m\u001b[43m)\u001b[49m\n\u001b[0;32m   2112\u001b[0m     \u001b[38;5;28;01mif\u001b[39;00m labels \u001b[38;5;129;01mis\u001b[39;00m \u001b[38;5;28;01mNone\u001b[39;00m:\n\u001b[0;32m   2113\u001b[0m         labels \u001b[38;5;241m=\u001b[39m unique_labels(y_true, y_pred)\n",
      "File \u001b[1;32m~\\AppData\\Local\\Programs\\Python\\Python39\\lib\\site-packages\\sklearn\\metrics\\_classification.py:84\u001b[0m, in \u001b[0;36m_check_targets\u001b[1;34m(y_true, y_pred)\u001b[0m\n\u001b[0;32m     57\u001b[0m \u001b[38;5;28;01mdef\u001b[39;00m \u001b[38;5;21m_check_targets\u001b[39m(y_true, y_pred):\n\u001b[0;32m     58\u001b[0m     \u001b[38;5;124;03m\"\"\"Check that y_true and y_pred belong to the same classification task.\u001b[39;00m\n\u001b[0;32m     59\u001b[0m \n\u001b[0;32m     60\u001b[0m \u001b[38;5;124;03m    This converts multiclass or binary types to a common shape, and raises a\u001b[39;00m\n\u001b[1;32m   (...)\u001b[0m\n\u001b[0;32m     82\u001b[0m \u001b[38;5;124;03m    y_pred : array or indicator matrix\u001b[39;00m\n\u001b[0;32m     83\u001b[0m \u001b[38;5;124;03m    \"\"\"\u001b[39;00m\n\u001b[1;32m---> 84\u001b[0m     \u001b[43mcheck_consistent_length\u001b[49m\u001b[43m(\u001b[49m\u001b[43my_true\u001b[49m\u001b[43m,\u001b[49m\u001b[43m \u001b[49m\u001b[43my_pred\u001b[49m\u001b[43m)\u001b[49m\n\u001b[0;32m     85\u001b[0m     type_true \u001b[38;5;241m=\u001b[39m type_of_target(y_true)\n\u001b[0;32m     86\u001b[0m     type_pred \u001b[38;5;241m=\u001b[39m type_of_target(y_pred)\n",
      "File \u001b[1;32m~\\AppData\\Local\\Programs\\Python\\Python39\\lib\\site-packages\\sklearn\\utils\\validation.py:332\u001b[0m, in \u001b[0;36mcheck_consistent_length\u001b[1;34m(*arrays)\u001b[0m\n\u001b[0;32m    330\u001b[0m uniques \u001b[38;5;241m=\u001b[39m np\u001b[38;5;241m.\u001b[39munique(lengths)\n\u001b[0;32m    331\u001b[0m \u001b[38;5;28;01mif\u001b[39;00m \u001b[38;5;28mlen\u001b[39m(uniques) \u001b[38;5;241m>\u001b[39m \u001b[38;5;241m1\u001b[39m:\n\u001b[1;32m--> 332\u001b[0m     \u001b[38;5;28;01mraise\u001b[39;00m \u001b[38;5;167;01mValueError\u001b[39;00m(\n\u001b[0;32m    333\u001b[0m         \u001b[38;5;124m\"\u001b[39m\u001b[38;5;124mFound input variables with inconsistent numbers of samples: \u001b[39m\u001b[38;5;132;01m%r\u001b[39;00m\u001b[38;5;124m\"\u001b[39m\n\u001b[0;32m    334\u001b[0m         \u001b[38;5;241m%\u001b[39m [\u001b[38;5;28mint\u001b[39m(l) \u001b[38;5;28;01mfor\u001b[39;00m l \u001b[38;5;129;01min\u001b[39;00m lengths]\n\u001b[0;32m    335\u001b[0m     )\n",
      "\u001b[1;31mValueError\u001b[0m: Found input variables with inconsistent numbers of samples: [8, 3]"
     ]
    }
   ],
   "source": []
  },
  {
   "cell_type": "code",
   "execution_count": null,
   "id": "0096e105",
   "metadata": {},
   "outputs": [],
   "source": []
  },
  {
   "cell_type": "code",
   "execution_count": null,
   "id": "799ca24d",
   "metadata": {},
   "outputs": [],
   "source": [
    "#model.save_model(\"model_fasttext.bin\")"
   ]
  },
  {
   "cell_type": "code",
   "execution_count": null,
   "id": "7db23811",
   "metadata": {},
   "outputs": [],
   "source": [
    "#model.predict(\"any_text\")"
   ]
  },
  {
   "cell_type": "code",
   "execution_count": null,
   "id": "2444cf49",
   "metadata": {},
   "outputs": [],
   "source": []
  }
 ],
 "metadata": {
  "kernelspec": {
   "display_name": "Python 3 (ipykernel)",
   "language": "python",
   "name": "python3"
  },
  "language_info": {
   "codemirror_mode": {
    "name": "ipython",
    "version": 3
   },
   "file_extension": ".py",
   "mimetype": "text/x-python",
   "name": "python",
   "nbconvert_exporter": "python",
   "pygments_lexer": "ipython3",
   "version": "3.9.7"
  }
 },
 "nbformat": 4,
 "nbformat_minor": 5
}
