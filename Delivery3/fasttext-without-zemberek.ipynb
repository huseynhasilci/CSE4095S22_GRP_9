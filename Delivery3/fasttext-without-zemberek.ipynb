{
 "cells": [
  {
   "cell_type": "code",
   "execution_count": 71,
   "id": "eeda78e8",
   "metadata": {},
   "outputs": [],
   "source": [
    "import random\n",
    "import numpy\n",
    "import fasttext\n",
    "from nltk.corpus import stopwords\n",
    "import csv\n",
    "import re\n",
    "import pandas as pd\n",
    "from sklearn.model_selection import train_test_split\n",
    "import re"
   ]
  },
  {
   "cell_type": "code",
   "execution_count": 72,
   "id": "cbd29333",
   "metadata": {},
   "outputs": [
    {
     "data": {
      "text/html": [
       "<div>\n",
       "<style scoped>\n",
       "    .dataframe tbody tr th:only-of-type {\n",
       "        vertical-align: middle;\n",
       "    }\n",
       "\n",
       "    .dataframe tbody tr th {\n",
       "        vertical-align: top;\n",
       "    }\n",
       "\n",
       "    .dataframe thead th {\n",
       "        text-align: right;\n",
       "    }\n",
       "</style>\n",
       "<table border=\"1\" class=\"dataframe\">\n",
       "  <thead>\n",
       "    <tr style=\"text-align: right;\">\n",
       "      <th></th>\n",
       "      <th>Unnamed: 0.1</th>\n",
       "      <th>Unnamed: 0</th>\n",
       "      <th>ictihat</th>\n",
       "      <th>Suç</th>\n",
       "      <th>YeniSuclar</th>\n",
       "    </tr>\n",
       "  </thead>\n",
       "  <tbody>\n",
       "    <tr>\n",
       "      <th>0</th>\n",
       "      <td>0</td>\n",
       "      <td>0</td>\n",
       "      <td>HÜKÜMLER : Mahkumiyet, beraat, hükmün açıkl...</td>\n",
       "      <td>hakaret</td>\n",
       "      <td>Şerefe karşı suçlar</td>\n",
       "    </tr>\n",
       "    <tr>\n",
       "      <th>1</th>\n",
       "      <td>1</td>\n",
       "      <td>1</td>\n",
       "      <td>HÜKÜMLER : Mahkumiyet, beraat, hükmün açıkl...</td>\n",
       "      <td>tehdit</td>\n",
       "      <td>Hürriyete karşı suçlar</td>\n",
       "    </tr>\n",
       "    <tr>\n",
       "      <th>2</th>\n",
       "      <td>2</td>\n",
       "      <td>2</td>\n",
       "      <td>HÜKÜMLER : Mahkumiyet, beraat, hükmün açıkl...</td>\n",
       "      <td>yaralama</td>\n",
       "      <td>Vücut dokunulmazlığına karşı suçlar</td>\n",
       "    </tr>\n",
       "    <tr>\n",
       "      <th>3</th>\n",
       "      <td>3</td>\n",
       "      <td>3</td>\n",
       "      <td>HÜKÜMLER : Beraat    Yerel Mahkemece bozma ...</td>\n",
       "      <td>tehdit</td>\n",
       "      <td>Hürriyete karşı suçlar</td>\n",
       "    </tr>\n",
       "    <tr>\n",
       "      <th>4</th>\n",
       "      <td>4</td>\n",
       "      <td>4</td>\n",
       "      <td>HÜKÜMLER : Beraat    Yerel Mahkemece bozma ...</td>\n",
       "      <td>hakaret</td>\n",
       "      <td>Şerefe karşı suçlar</td>\n",
       "    </tr>\n",
       "  </tbody>\n",
       "</table>\n",
       "</div>"
      ],
      "text/plain": [
       "   Unnamed: 0.1  Unnamed: 0  \\\n",
       "0             0           0   \n",
       "1             1           1   \n",
       "2             2           2   \n",
       "3             3           3   \n",
       "4             4           4   \n",
       "\n",
       "                                             ictihat        Suç  \\\n",
       "0     HÜKÜMLER : Mahkumiyet, beraat, hükmün açıkl...    hakaret   \n",
       "1     HÜKÜMLER : Mahkumiyet, beraat, hükmün açıkl...     tehdit   \n",
       "2     HÜKÜMLER : Mahkumiyet, beraat, hükmün açıkl...   yaralama   \n",
       "3     HÜKÜMLER : Beraat    Yerel Mahkemece bozma ...     tehdit   \n",
       "4     HÜKÜMLER : Beraat    Yerel Mahkemece bozma ...    hakaret   \n",
       "\n",
       "                            YeniSuclar  \n",
       "0                  Şerefe karşı suçlar  \n",
       "1               Hürriyete karşı suçlar  \n",
       "2  Vücut dokunulmazlığına karşı suçlar  \n",
       "3               Hürriyete karşı suçlar  \n",
       "4                  Şerefe karşı suçlar  "
      ]
     },
     "execution_count": 72,
     "metadata": {},
     "output_type": "execute_result"
    }
   ],
   "source": [
    "path_csv_file = \"latest_hukums_with_classes_csv_file1.csv\"\n",
    "\n",
    "df = pd.read_csv(path_csv_file)\n",
    "df.head()"
   ]
  },
  {
   "cell_type": "code",
   "execution_count": 73,
   "id": "e5cff328",
   "metadata": {},
   "outputs": [
    {
     "data": {
      "text/html": [
       "<div>\n",
       "<style scoped>\n",
       "    .dataframe tbody tr th:only-of-type {\n",
       "        vertical-align: middle;\n",
       "    }\n",
       "\n",
       "    .dataframe tbody tr th {\n",
       "        vertical-align: top;\n",
       "    }\n",
       "\n",
       "    .dataframe thead th {\n",
       "        text-align: right;\n",
       "    }\n",
       "</style>\n",
       "<table border=\"1\" class=\"dataframe\">\n",
       "  <thead>\n",
       "    <tr style=\"text-align: right;\">\n",
       "      <th></th>\n",
       "      <th>Unnamed: 0.1</th>\n",
       "      <th>Unnamed: 0</th>\n",
       "      <th>ictihat</th>\n",
       "      <th>Suç</th>\n",
       "      <th>YeniSuclar</th>\n",
       "      <th>NUM_LABEL</th>\n",
       "    </tr>\n",
       "  </thead>\n",
       "  <tbody>\n",
       "    <tr>\n",
       "      <th>0</th>\n",
       "      <td>0</td>\n",
       "      <td>0</td>\n",
       "      <td>HÜKÜMLER : Mahkumiyet, beraat, hükmün açıkl...</td>\n",
       "      <td>hakaret</td>\n",
       "      <td>Şerefe karşı suçlar</td>\n",
       "      <td>0</td>\n",
       "    </tr>\n",
       "    <tr>\n",
       "      <th>1</th>\n",
       "      <td>1</td>\n",
       "      <td>1</td>\n",
       "      <td>HÜKÜMLER : Mahkumiyet, beraat, hükmün açıkl...</td>\n",
       "      <td>tehdit</td>\n",
       "      <td>Hürriyete karşı suçlar</td>\n",
       "      <td>1</td>\n",
       "    </tr>\n",
       "    <tr>\n",
       "      <th>2</th>\n",
       "      <td>2</td>\n",
       "      <td>2</td>\n",
       "      <td>HÜKÜMLER : Mahkumiyet, beraat, hükmün açıkl...</td>\n",
       "      <td>yaralama</td>\n",
       "      <td>Vücut dokunulmazlığına karşı suçlar</td>\n",
       "      <td>2</td>\n",
       "    </tr>\n",
       "    <tr>\n",
       "      <th>3</th>\n",
       "      <td>3</td>\n",
       "      <td>3</td>\n",
       "      <td>HÜKÜMLER : Beraat    Yerel Mahkemece bozma ...</td>\n",
       "      <td>tehdit</td>\n",
       "      <td>Hürriyete karşı suçlar</td>\n",
       "      <td>1</td>\n",
       "    </tr>\n",
       "    <tr>\n",
       "      <th>4</th>\n",
       "      <td>4</td>\n",
       "      <td>4</td>\n",
       "      <td>HÜKÜMLER : Beraat    Yerel Mahkemece bozma ...</td>\n",
       "      <td>hakaret</td>\n",
       "      <td>Şerefe karşı suçlar</td>\n",
       "      <td>0</td>\n",
       "    </tr>\n",
       "  </tbody>\n",
       "</table>\n",
       "</div>"
      ],
      "text/plain": [
       "   Unnamed: 0.1  Unnamed: 0  \\\n",
       "0             0           0   \n",
       "1             1           1   \n",
       "2             2           2   \n",
       "3             3           3   \n",
       "4             4           4   \n",
       "\n",
       "                                             ictihat        Suç  \\\n",
       "0     HÜKÜMLER : Mahkumiyet, beraat, hükmün açıkl...    hakaret   \n",
       "1     HÜKÜMLER : Mahkumiyet, beraat, hükmün açıkl...     tehdit   \n",
       "2     HÜKÜMLER : Mahkumiyet, beraat, hükmün açıkl...   yaralama   \n",
       "3     HÜKÜMLER : Beraat    Yerel Mahkemece bozma ...     tehdit   \n",
       "4     HÜKÜMLER : Beraat    Yerel Mahkemece bozma ...    hakaret   \n",
       "\n",
       "                            YeniSuclar  NUM_LABEL  \n",
       "0                  Şerefe karşı suçlar          0  \n",
       "1               Hürriyete karşı suçlar          1  \n",
       "2  Vücut dokunulmazlığına karşı suçlar          2  \n",
       "3               Hürriyete karşı suçlar          1  \n",
       "4                  Şerefe karşı suçlar          0  "
      ]
     },
     "execution_count": 73,
     "metadata": {},
     "output_type": "execute_result"
    }
   ],
   "source": [
    "label_map = {}\n",
    "count = 0\n",
    "for label in df.YeniSuclar.unique():\n",
    "    label_map[label] = count\n",
    "    count += 1\n",
    "df['NUM_LABEL'] = df.YeniSuclar.map(label_map)\n",
    "#print(label_map)\n",
    "df.head()"
   ]
  },
  {
   "cell_type": "code",
   "execution_count": 74,
   "id": "c8ca5d74",
   "metadata": {},
   "outputs": [
    {
     "data": {
      "text/plain": [
       "Unnamed: 0.1     0\n",
       "Unnamed: 0       0\n",
       "ictihat          0\n",
       "Suç             11\n",
       "YeniSuclar       0\n",
       "NUM_LABEL        0\n",
       "dtype: int64"
      ]
     },
     "execution_count": 74,
     "metadata": {},
     "output_type": "execute_result"
    }
   ],
   "source": [
    "df.isnull().sum()"
   ]
  },
  {
   "cell_type": "code",
   "execution_count": 75,
   "id": "56aeb887",
   "metadata": {},
   "outputs": [],
   "source": [
    "df = df.dropna(how='any',axis=0)"
   ]
  },
  {
   "cell_type": "code",
   "execution_count": 76,
   "id": "76e40623",
   "metadata": {},
   "outputs": [
    {
     "data": {
      "text/plain": [
       "Unnamed: 0.1    0\n",
       "Unnamed: 0      0\n",
       "ictihat         0\n",
       "Suç             0\n",
       "YeniSuclar      0\n",
       "NUM_LABEL       0\n",
       "dtype: int64"
      ]
     },
     "execution_count": 76,
     "metadata": {},
     "output_type": "execute_result"
    }
   ],
   "source": [
    "df.isnull().sum()"
   ]
  },
  {
   "cell_type": "code",
   "execution_count": 77,
   "id": "0d04de18",
   "metadata": {},
   "outputs": [],
   "source": [
    "def clean_text(text):\n",
    "    alphabetic_only = [word for word in text.split() if word.isalpha()]\n",
    "    lower_case_only = [word.lower() for word in alphabetic_only]\n",
    "    stopwords_tr = set(stopwords.words(\"turkish\"))    \n",
    "    return [word for word in lower_case_only if word not in stopwords_tr]"
   ]
  },
  {
   "cell_type": "code",
   "execution_count": 78,
   "id": "3d1cdceb",
   "metadata": {},
   "outputs": [
    {
     "data": {
      "text/html": [
       "<div>\n",
       "<style scoped>\n",
       "    .dataframe tbody tr th:only-of-type {\n",
       "        vertical-align: middle;\n",
       "    }\n",
       "\n",
       "    .dataframe tbody tr th {\n",
       "        vertical-align: top;\n",
       "    }\n",
       "\n",
       "    .dataframe thead th {\n",
       "        text-align: right;\n",
       "    }\n",
       "</style>\n",
       "<table border=\"1\" class=\"dataframe\">\n",
       "  <thead>\n",
       "    <tr style=\"text-align: right;\">\n",
       "      <th></th>\n",
       "      <th>ictihat</th>\n",
       "      <th>NUM_LABEL</th>\n",
       "    </tr>\n",
       "  </thead>\n",
       "  <tbody>\n",
       "    <tr>\n",
       "      <th>0</th>\n",
       "      <td>hükümler hükmün açıklanmasının geri temyiz ist...</td>\n",
       "      <td>0</td>\n",
       "    </tr>\n",
       "    <tr>\n",
       "      <th>1</th>\n",
       "      <td>hükümler hükmün açıklanmasının geri temyiz ist...</td>\n",
       "      <td>1</td>\n",
       "    </tr>\n",
       "    <tr>\n",
       "      <th>2</th>\n",
       "      <td>hükümler hükmün açıklanmasının geri temyiz ist...</td>\n",
       "      <td>2</td>\n",
       "    </tr>\n",
       "    <tr>\n",
       "      <th>3</th>\n",
       "      <td>hükümler beraat yerel mahkemece bozma üzerine ...</td>\n",
       "      <td>1</td>\n",
       "    </tr>\n",
       "    <tr>\n",
       "      <th>4</th>\n",
       "      <td>hükümler beraat yerel mahkemece bozma üzerine ...</td>\n",
       "      <td>0</td>\n",
       "    </tr>\n",
       "    <tr>\n",
       "      <th>...</th>\n",
       "      <td>...</td>\n",
       "      <td>...</td>\n",
       "    </tr>\n",
       "    <tr>\n",
       "      <th>19275</th>\n",
       "      <td>hüküm sanıklar suç işlemek amacıyla örgüt kurm...</td>\n",
       "      <td>14</td>\n",
       "    </tr>\n",
       "    <tr>\n",
       "      <th>19276</th>\n",
       "      <td>hüküm bakırköy asliye ceza mahkemesinin esas k...</td>\n",
       "      <td>4</td>\n",
       "    </tr>\n",
       "    <tr>\n",
       "      <th>19277</th>\n",
       "      <td>hükümler mahkumiyet yerel mahkemece verilen hü...</td>\n",
       "      <td>0</td>\n",
       "    </tr>\n",
       "    <tr>\n",
       "      <th>19278</th>\n",
       "      <td>hükümler mahkumiyet yerel mahkemece verilen hü...</td>\n",
       "      <td>1</td>\n",
       "    </tr>\n",
       "    <tr>\n",
       "      <th>19279</th>\n",
       "      <td>hükümler mahkumiyet yerel mahkemece verilen hü...</td>\n",
       "      <td>2</td>\n",
       "    </tr>\n",
       "  </tbody>\n",
       "</table>\n",
       "<p>19269 rows × 2 columns</p>\n",
       "</div>"
      ],
      "text/plain": [
       "                                                 ictihat  NUM_LABEL\n",
       "0      hükümler hükmün açıklanmasının geri temyiz ist...          0\n",
       "1      hükümler hükmün açıklanmasının geri temyiz ist...          1\n",
       "2      hükümler hükmün açıklanmasının geri temyiz ist...          2\n",
       "3      hükümler beraat yerel mahkemece bozma üzerine ...          1\n",
       "4      hükümler beraat yerel mahkemece bozma üzerine ...          0\n",
       "...                                                  ...        ...\n",
       "19275  hüküm sanıklar suç işlemek amacıyla örgüt kurm...         14\n",
       "19276  hüküm bakırköy asliye ceza mahkemesinin esas k...          4\n",
       "19277  hükümler mahkumiyet yerel mahkemece verilen hü...          0\n",
       "19278  hükümler mahkumiyet yerel mahkemece verilen hü...          1\n",
       "19279  hükümler mahkumiyet yerel mahkemece verilen hü...          2\n",
       "\n",
       "[19269 rows x 2 columns]"
      ]
     },
     "execution_count": 78,
     "metadata": {},
     "output_type": "execute_result"
    }
   ],
   "source": [
    "df.iloc[:, 2] = df.iloc[:, 2].apply(lambda x: \" \".join(clean_text(x)))\n",
    "df = df[['ictihat', 'NUM_LABEL']]\n",
    "df"
   ]
  },
  {
   "cell_type": "code",
   "execution_count": 79,
   "id": "f69b270c",
   "metadata": {},
   "outputs": [
    {
     "data": {
      "text/html": [
       "<div>\n",
       "<style scoped>\n",
       "    .dataframe tbody tr th:only-of-type {\n",
       "        vertical-align: middle;\n",
       "    }\n",
       "\n",
       "    .dataframe tbody tr th {\n",
       "        vertical-align: top;\n",
       "    }\n",
       "\n",
       "    .dataframe thead th {\n",
       "        text-align: right;\n",
       "    }\n",
       "</style>\n",
       "<table border=\"1\" class=\"dataframe\">\n",
       "  <thead>\n",
       "    <tr style=\"text-align: right;\">\n",
       "      <th></th>\n",
       "      <th>ictihat</th>\n",
       "      <th>NUM_LABEL</th>\n",
       "    </tr>\n",
       "  </thead>\n",
       "  <tbody>\n",
       "    <tr>\n",
       "      <th>0</th>\n",
       "      <td>hükümler hükmün açıklanmasının geri temyiz ist...</td>\n",
       "      <td>__label__0</td>\n",
       "    </tr>\n",
       "    <tr>\n",
       "      <th>1</th>\n",
       "      <td>hükümler hükmün açıklanmasının geri temyiz ist...</td>\n",
       "      <td>__label__1</td>\n",
       "    </tr>\n",
       "    <tr>\n",
       "      <th>2</th>\n",
       "      <td>hükümler hükmün açıklanmasının geri temyiz ist...</td>\n",
       "      <td>__label__2</td>\n",
       "    </tr>\n",
       "    <tr>\n",
       "      <th>3</th>\n",
       "      <td>hükümler beraat yerel mahkemece bozma üzerine ...</td>\n",
       "      <td>__label__1</td>\n",
       "    </tr>\n",
       "    <tr>\n",
       "      <th>4</th>\n",
       "      <td>hükümler beraat yerel mahkemece bozma üzerine ...</td>\n",
       "      <td>__label__0</td>\n",
       "    </tr>\n",
       "  </tbody>\n",
       "</table>\n",
       "</div>"
      ],
      "text/plain": [
       "                                             ictihat   NUM_LABEL\n",
       "0  hükümler hükmün açıklanmasının geri temyiz ist...  __label__0\n",
       "1  hükümler hükmün açıklanmasının geri temyiz ist...  __label__1\n",
       "2  hükümler hükmün açıklanmasının geri temyiz ist...  __label__2\n",
       "3  hükümler beraat yerel mahkemece bozma üzerine ...  __label__1\n",
       "4  hükümler beraat yerel mahkemece bozma üzerine ...  __label__0"
      ]
     },
     "execution_count": 79,
     "metadata": {},
     "output_type": "execute_result"
    }
   ],
   "source": [
    "df_labeled = df.copy()\n",
    "df_labeled['NUM_LABEL'] = '__label__' + df_labeled['NUM_LABEL'].astype(str)\n",
    "df_labeled.head()"
   ]
  },
  {
   "cell_type": "code",
   "execution_count": 80,
   "id": "74ef3ebb",
   "metadata": {},
   "outputs": [
    {
     "data": {
      "text/plain": [
       "0        __label__0 hükümler hükmün açıklanmasının geri...\n",
       "1        __label__1 hükümler hükmün açıklanmasının geri...\n",
       "2        __label__2 hükümler hükmün açıklanmasının geri...\n",
       "3        __label__1 hükümler beraat yerel mahkemece boz...\n",
       "4        __label__0 hükümler beraat yerel mahkemece boz...\n",
       "                               ...                        \n",
       "19275    __label__14 hüküm sanıklar suç işlemek amacıyl...\n",
       "19276    __label__4 hüküm bakırköy asliye ceza mahkemes...\n",
       "19277    __label__0 hükümler mahkumiyet yerel mahkemece...\n",
       "19278    __label__1 hükümler mahkumiyet yerel mahkemece...\n",
       "19279    __label__2 hükümler mahkumiyet yerel mahkemece...\n",
       "Length: 19269, dtype: object"
      ]
     },
     "execution_count": 80,
     "metadata": {},
     "output_type": "execute_result"
    }
   ],
   "source": [
    "ictihat_label = df_labeled['NUM_LABEL'] + \" \" + df_labeled['ictihat']\n",
    "ictihat_label"
   ]
  },
  {
   "cell_type": "code",
   "execution_count": 81,
   "id": "072fdb73",
   "metadata": {},
   "outputs": [],
   "source": [
    "train, test = train_test_split(ictihat_label, test_size=0.2, random_state=42)"
   ]
  },
  {
   "cell_type": "code",
   "execution_count": 82,
   "id": "b8b4e054",
   "metadata": {},
   "outputs": [],
   "source": [
    "#write test and train into files\n",
    "f_train = open(\"train.txt\", \"w\", encoding='utf-8')\n",
    "for i in range(len(numpy.array(train))):\n",
    "    f_train.write(numpy.array(train)[i] + \"\\n\")\n",
    "f_train.close()\n",
    "\n",
    "f_test = open(\"test.txt\", \"w\",  encoding='utf-8')\n",
    "for i in range(len(numpy.array(test))):\n",
    "    f_test.write(numpy.array(test)[i] + \"\\n\")\n",
    "f_test.close()"
   ]
  },
  {
   "cell_type": "code",
   "execution_count": 108,
   "id": "371e98a1",
   "metadata": {},
   "outputs": [],
   "source": [
    "model = fasttext.train_supervised(input=\"train.txt\", epoch=10,  lr=0.5, loss='ova')"
   ]
  },
  {
   "cell_type": "code",
   "execution_count": 109,
   "id": "2efb8165",
   "metadata": {},
   "outputs": [
    {
     "data": {
      "text/plain": [
       "(3854, 0.6473793461338869, 0.6473793461338869)"
      ]
     },
     "execution_count": 109,
     "metadata": {},
     "output_type": "execute_result"
    }
   ],
   "source": [
    "model.test(\"test.txt\") #(n, precision, recall)"
   ]
  },
  {
   "cell_type": "code",
   "execution_count": 110,
   "id": "799ca24d",
   "metadata": {},
   "outputs": [],
   "source": [
    "model.save_model(\"model_fasttext.bin\")"
   ]
  },
  {
   "cell_type": "code",
   "execution_count": null,
   "id": "7db23811",
   "metadata": {},
   "outputs": [],
   "source": [
    "#model.predict(\"any_text\")"
   ]
  },
  {
   "cell_type": "code",
   "execution_count": null,
   "id": "2444cf49",
   "metadata": {},
   "outputs": [],
   "source": []
  }
 ],
 "metadata": {
  "kernelspec": {
   "display_name": "Python 3 (ipykernel)",
   "language": "python",
   "name": "python3"
  },
  "language_info": {
   "codemirror_mode": {
    "name": "ipython",
    "version": 3
   },
   "file_extension": ".py",
   "mimetype": "text/x-python",
   "name": "python",
   "nbconvert_exporter": "python",
   "pygments_lexer": "ipython3",
   "version": "3.9.7"
  }
 },
 "nbformat": 4,
 "nbformat_minor": 5
}
