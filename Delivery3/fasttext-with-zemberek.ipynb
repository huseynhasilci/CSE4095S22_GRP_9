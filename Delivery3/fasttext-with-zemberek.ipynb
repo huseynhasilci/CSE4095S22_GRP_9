{
 "cells": [
  {
   "cell_type": "code",
   "execution_count": 1,
   "id": "69d304ce",
   "metadata": {},
   "outputs": [],
   "source": [
    "import random\n",
    "import numpy\n",
    "import fasttext\n",
    "from nltk.corpus import stopwords\n",
    "import csv\n",
    "import re\n",
    "import pandas as pd\n",
    "from sklearn.model_selection import train_test_split\n",
    "import re"
   ]
  },
  {
   "cell_type": "code",
   "execution_count": 2,
   "id": "06dfe7fc",
   "metadata": {},
   "outputs": [
    {
     "data": {
      "text/html": [
       "<div>\n",
       "<style scoped>\n",
       "    .dataframe tbody tr th:only-of-type {\n",
       "        vertical-align: middle;\n",
       "    }\n",
       "\n",
       "    .dataframe tbody tr th {\n",
       "        vertical-align: top;\n",
       "    }\n",
       "\n",
       "    .dataframe thead th {\n",
       "        text-align: right;\n",
       "    }\n",
       "</style>\n",
       "<table border=\"1\" class=\"dataframe\">\n",
       "  <thead>\n",
       "    <tr style=\"text-align: right;\">\n",
       "      <th></th>\n",
       "      <th>ictihat</th>\n",
       "      <th>NUM_LABEL</th>\n",
       "    </tr>\n",
       "  </thead>\n",
       "  <tbody>\n",
       "    <tr>\n",
       "      <th>0</th>\n",
       "      <td>hüküm hüküm açık geri temyiz istek ret yerel m...</td>\n",
       "      <td>0</td>\n",
       "    </tr>\n",
       "    <tr>\n",
       "      <th>1</th>\n",
       "      <td>hüküm hüküm açık geri temyiz istek ret yerel m...</td>\n",
       "      <td>1</td>\n",
       "    </tr>\n",
       "    <tr>\n",
       "      <th>2</th>\n",
       "      <td>hüküm hüküm açık geri temyiz istek ret yerel m...</td>\n",
       "      <td>2</td>\n",
       "    </tr>\n",
       "    <tr>\n",
       "      <th>3</th>\n",
       "      <td>hüküm beraat yerel mahkeme bozmak üzerine verm...</td>\n",
       "      <td>1</td>\n",
       "    </tr>\n",
       "    <tr>\n",
       "      <th>4</th>\n",
       "      <td>hüküm beraat yerel mahkeme bozmak üzerine verm...</td>\n",
       "      <td>0</td>\n",
       "    </tr>\n",
       "  </tbody>\n",
       "</table>\n",
       "</div>"
      ],
      "text/plain": [
       "                                             ictihat  NUM_LABEL\n",
       "0  hüküm hüküm açık geri temyiz istek ret yerel m...          0\n",
       "1  hüküm hüküm açık geri temyiz istek ret yerel m...          1\n",
       "2  hüküm hüküm açık geri temyiz istek ret yerel m...          2\n",
       "3  hüküm beraat yerel mahkeme bozmak üzerine verm...          1\n",
       "4  hüküm beraat yerel mahkeme bozmak üzerine verm...          0"
      ]
     },
     "execution_count": 2,
     "metadata": {},
     "output_type": "execute_result"
    }
   ],
   "source": [
    "path_csv_file = \"datas-zemberek.csv\"\n",
    "\n",
    "df = pd.read_csv(path_csv_file)\n",
    "df.head()"
   ]
  },
  {
   "cell_type": "code",
   "execution_count": 3,
   "id": "85cab4b7",
   "metadata": {},
   "outputs": [
    {
     "data": {
      "text/html": [
       "<div>\n",
       "<style scoped>\n",
       "    .dataframe tbody tr th:only-of-type {\n",
       "        vertical-align: middle;\n",
       "    }\n",
       "\n",
       "    .dataframe tbody tr th {\n",
       "        vertical-align: top;\n",
       "    }\n",
       "\n",
       "    .dataframe thead th {\n",
       "        text-align: right;\n",
       "    }\n",
       "</style>\n",
       "<table border=\"1\" class=\"dataframe\">\n",
       "  <thead>\n",
       "    <tr style=\"text-align: right;\">\n",
       "      <th></th>\n",
       "      <th>ictihat</th>\n",
       "      <th>NUM_LABEL</th>\n",
       "    </tr>\n",
       "  </thead>\n",
       "  <tbody>\n",
       "    <tr>\n",
       "      <th>0</th>\n",
       "      <td>hüküm hüküm açık geri temyiz istek ret yerel m...</td>\n",
       "      <td>__label__0</td>\n",
       "    </tr>\n",
       "    <tr>\n",
       "      <th>1</th>\n",
       "      <td>hüküm hüküm açık geri temyiz istek ret yerel m...</td>\n",
       "      <td>__label__1</td>\n",
       "    </tr>\n",
       "    <tr>\n",
       "      <th>2</th>\n",
       "      <td>hüküm hüküm açık geri temyiz istek ret yerel m...</td>\n",
       "      <td>__label__2</td>\n",
       "    </tr>\n",
       "    <tr>\n",
       "      <th>3</th>\n",
       "      <td>hüküm beraat yerel mahkeme bozmak üzerine verm...</td>\n",
       "      <td>__label__1</td>\n",
       "    </tr>\n",
       "    <tr>\n",
       "      <th>4</th>\n",
       "      <td>hüküm beraat yerel mahkeme bozmak üzerine verm...</td>\n",
       "      <td>__label__0</td>\n",
       "    </tr>\n",
       "  </tbody>\n",
       "</table>\n",
       "</div>"
      ],
      "text/plain": [
       "                                             ictihat   NUM_LABEL\n",
       "0  hüküm hüküm açık geri temyiz istek ret yerel m...  __label__0\n",
       "1  hüküm hüküm açık geri temyiz istek ret yerel m...  __label__1\n",
       "2  hüküm hüküm açık geri temyiz istek ret yerel m...  __label__2\n",
       "3  hüküm beraat yerel mahkeme bozmak üzerine verm...  __label__1\n",
       "4  hüküm beraat yerel mahkeme bozmak üzerine verm...  __label__0"
      ]
     },
     "execution_count": 3,
     "metadata": {},
     "output_type": "execute_result"
    }
   ],
   "source": [
    "df_labeled = df.copy()\n",
    "df_labeled['NUM_LABEL'] = '__label__' + df_labeled['NUM_LABEL'].astype(str)\n",
    "df_labeled.head()"
   ]
  },
  {
   "cell_type": "code",
   "execution_count": 4,
   "id": "abc6f240",
   "metadata": {},
   "outputs": [
    {
     "data": {
      "text/plain": [
       "0        __label__0 hüküm hüküm açık geri temyiz istek ...\n",
       "1        __label__1 hüküm hüküm açık geri temyiz istek ...\n",
       "2        __label__2 hüküm hüküm açık geri temyiz istek ...\n",
       "3        __label__1 hüküm beraat yerel mahkeme bozmak ü...\n",
       "4        __label__0 hüküm beraat yerel mahkeme bozmak ü...\n",
       "                               ...                        \n",
       "19264    __label__14 hüküm sanık suç işlemek amaç örgüt...\n",
       "19265    __label__4 hüküm Bakırköy asliye ceza mahkeme ...\n",
       "19266    __label__0 hüküm mahkûmiyet yerel mahkeme verm...\n",
       "19267    __label__1 hüküm mahkûmiyet yerel mahkeme verm...\n",
       "19268    __label__2 hüküm mahkûmiyet yerel mahkeme verm...\n",
       "Length: 19269, dtype: object"
      ]
     },
     "execution_count": 4,
     "metadata": {},
     "output_type": "execute_result"
    }
   ],
   "source": [
    "ictihat_label = df_labeled['NUM_LABEL'] + \" \" + df_labeled['ictihat']\n",
    "ictihat_label"
   ]
  },
  {
   "cell_type": "code",
   "execution_count": 5,
   "id": "74fb7ec6",
   "metadata": {},
   "outputs": [],
   "source": [
    "train, test = train_test_split(ictihat_label, test_size=0.2, random_state=42)"
   ]
  },
  {
   "cell_type": "code",
   "execution_count": 6,
   "id": "1df7f9ba",
   "metadata": {},
   "outputs": [],
   "source": [
    "#write test and train into files\n",
    "f_train = open(\"train-zemberek.txt\", \"w\", encoding='utf-8')\n",
    "for i in range(len(numpy.array(train))):\n",
    "    f_train.write(numpy.array(train)[i] + \"\\n\")\n",
    "f_train.close()\n",
    "\n",
    "f_test = open(\"test-zemberek.txt\", \"w\",  encoding='utf-8')\n",
    "for i in range(len(numpy.array(test))):\n",
    "    f_test.write(numpy.array(test)[i] + \"\\n\")\n",
    "f_test.close()"
   ]
  },
  {
   "cell_type": "code",
   "execution_count": 27,
   "id": "5bf38bda",
   "metadata": {},
   "outputs": [],
   "source": [
    "model = fasttext.train_supervised(input=\"train-zemberek.txt\", epoch=10, wordNgrams=2, lr=0.5, loss='ova')"
   ]
  },
  {
   "cell_type": "code",
   "execution_count": 28,
   "id": "b66275fb",
   "metadata": {},
   "outputs": [
    {
     "data": {
      "text/plain": [
       "(3854, 0.6559418785677218, 0.6559418785677218)"
      ]
     },
     "execution_count": 28,
     "metadata": {},
     "output_type": "execute_result"
    }
   ],
   "source": [
    "model.test(\"test-zemberek.txt\") #(n, precision, recall)"
   ]
  },
  {
   "cell_type": "code",
   "execution_count": 29,
   "id": "1382709a",
   "metadata": {},
   "outputs": [],
   "source": [
    "model.save_model(\"model_fasttext_zemberek.bin\")"
   ]
  },
  {
   "cell_type": "code",
   "execution_count": null,
   "id": "0bcc78e1",
   "metadata": {},
   "outputs": [],
   "source": []
  },
  {
   "cell_type": "code",
   "execution_count": null,
   "id": "f1c20051",
   "metadata": {},
   "outputs": [],
   "source": []
  },
  {
   "cell_type": "code",
   "execution_count": null,
   "id": "205e1bee",
   "metadata": {},
   "outputs": [],
   "source": []
  },
  {
   "cell_type": "code",
   "execution_count": null,
   "id": "cb4b6dec",
   "metadata": {},
   "outputs": [],
   "source": []
  },
  {
   "cell_type": "code",
   "execution_count": null,
   "id": "3de00727",
   "metadata": {},
   "outputs": [],
   "source": []
  },
  {
   "cell_type": "code",
   "execution_count": null,
   "id": "1c883d89",
   "metadata": {},
   "outputs": [],
   "source": []
  },
  {
   "cell_type": "code",
   "execution_count": null,
   "id": "e4827f3f",
   "metadata": {},
   "outputs": [],
   "source": []
  },
  {
   "cell_type": "code",
   "execution_count": null,
   "id": "369e05dd",
   "metadata": {},
   "outputs": [],
   "source": []
  }
 ],
 "metadata": {
  "kernelspec": {
   "display_name": "Python 3 (ipykernel)",
   "language": "python",
   "name": "python3"
  },
  "language_info": {
   "codemirror_mode": {
    "name": "ipython",
    "version": 3
   },
   "file_extension": ".py",
   "mimetype": "text/x-python",
   "name": "python",
   "nbconvert_exporter": "python",
   "pygments_lexer": "ipython3",
   "version": "3.9.7"
  }
 },
 "nbformat": 4,
 "nbformat_minor": 5
}
