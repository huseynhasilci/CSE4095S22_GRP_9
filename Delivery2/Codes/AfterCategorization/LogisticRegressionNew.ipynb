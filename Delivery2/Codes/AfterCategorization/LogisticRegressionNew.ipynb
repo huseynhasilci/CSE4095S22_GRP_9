{
 "cells": [
  {
   "cell_type": "code",
   "execution_count": 22,
   "id": "822d790d",
   "metadata": {},
   "outputs": [],
   "source": [
    "import pandas as pd\n",
    "from sklearn.feature_extraction.text import CountVectorizer\n",
    "from sklearn.model_selection import train_test_split\n",
    "from sklearn import metrics\n",
    "from nltk.corpus import stopwords\n",
    "from sklearn.feature_extraction.text import TfidfTransformer\n",
    "from sklearn.linear_model import LogisticRegression\n",
    "from sklearn.metrics import confusion_matrix, classification_report, precision_score"
   ]
  },
  {
   "cell_type": "code",
   "execution_count": 6,
   "id": "dd1a9e2a",
   "metadata": {},
   "outputs": [
    {
     "data": {
      "text/html": [
       "<div>\n",
       "<style scoped>\n",
       "    .dataframe tbody tr th:only-of-type {\n",
       "        vertical-align: middle;\n",
       "    }\n",
       "\n",
       "    .dataframe tbody tr th {\n",
       "        vertical-align: top;\n",
       "    }\n",
       "\n",
       "    .dataframe thead th {\n",
       "        text-align: right;\n",
       "    }\n",
       "</style>\n",
       "<table border=\"1\" class=\"dataframe\">\n",
       "  <thead>\n",
       "    <tr style=\"text-align: right;\">\n",
       "      <th></th>\n",
       "      <th>Unnamed: 0</th>\n",
       "      <th>Unnamed: 0.1</th>\n",
       "      <th>ictihat</th>\n",
       "      <th>Suç</th>\n",
       "      <th>YeniSuclar</th>\n",
       "    </tr>\n",
       "  </thead>\n",
       "  <tbody>\n",
       "    <tr>\n",
       "      <th>0</th>\n",
       "      <td>0</td>\n",
       "      <td>0</td>\n",
       "      <td>HÜKÜMLER : Mahkumiyet, beraat, hükmün açıkl...</td>\n",
       "      <td>hakaret</td>\n",
       "      <td>Şerefe karşı suçlar</td>\n",
       "    </tr>\n",
       "    <tr>\n",
       "      <th>1</th>\n",
       "      <td>1</td>\n",
       "      <td>1</td>\n",
       "      <td>HÜKÜMLER : Mahkumiyet, beraat, hükmün açıkl...</td>\n",
       "      <td>tehdit</td>\n",
       "      <td>Hürriyete karşı suçlar</td>\n",
       "    </tr>\n",
       "    <tr>\n",
       "      <th>2</th>\n",
       "      <td>2</td>\n",
       "      <td>2</td>\n",
       "      <td>HÜKÜMLER : Mahkumiyet, beraat, hükmün açıkl...</td>\n",
       "      <td>yaralama</td>\n",
       "      <td>Vücut dokunulmazlığına karşı suçlar</td>\n",
       "    </tr>\n",
       "    <tr>\n",
       "      <th>3</th>\n",
       "      <td>3</td>\n",
       "      <td>3</td>\n",
       "      <td>HÜKÜMLER : Beraat    Yerel Mahkemece bozma ...</td>\n",
       "      <td>tehdit</td>\n",
       "      <td>Hürriyete karşı suçlar</td>\n",
       "    </tr>\n",
       "    <tr>\n",
       "      <th>4</th>\n",
       "      <td>4</td>\n",
       "      <td>4</td>\n",
       "      <td>HÜKÜMLER : Beraat    Yerel Mahkemece bozma ...</td>\n",
       "      <td>hakaret</td>\n",
       "      <td>Şerefe karşı suçlar</td>\n",
       "    </tr>\n",
       "  </tbody>\n",
       "</table>\n",
       "</div>"
      ],
      "text/plain": [
       "   Unnamed: 0  Unnamed: 0.1  \\\n",
       "0           0             0   \n",
       "1           1             1   \n",
       "2           2             2   \n",
       "3           3             3   \n",
       "4           4             4   \n",
       "\n",
       "                                             ictihat        Suç  \\\n",
       "0     HÜKÜMLER : Mahkumiyet, beraat, hükmün açıkl...    hakaret   \n",
       "1     HÜKÜMLER : Mahkumiyet, beraat, hükmün açıkl...     tehdit   \n",
       "2     HÜKÜMLER : Mahkumiyet, beraat, hükmün açıkl...   yaralama   \n",
       "3     HÜKÜMLER : Beraat    Yerel Mahkemece bozma ...     tehdit   \n",
       "4     HÜKÜMLER : Beraat    Yerel Mahkemece bozma ...    hakaret   \n",
       "\n",
       "                            YeniSuclar  \n",
       "0                  Şerefe karşı suçlar  \n",
       "1               Hürriyete karşı suçlar  \n",
       "2  Vücut dokunulmazlığına karşı suçlar  \n",
       "3               Hürriyete karşı suçlar  \n",
       "4                  Şerefe karşı suçlar  "
      ]
     },
     "execution_count": 6,
     "metadata": {},
     "output_type": "execute_result"
    }
   ],
   "source": [
    "path_csv_file = \"C:/Users/husey/PycharmProjects/pythonProject12/IntToNLP_GRP_9/latest_hukums_with_classes_csv_file1.csv\"\n",
    "\n",
    "df = pd.read_csv(path_csv_file)\n",
    "df.head()"
   ]
  },
  {
   "cell_type": "code",
   "execution_count": 10,
   "id": "293cc5a1",
   "metadata": {},
   "outputs": [
    {
     "data": {
      "text/plain": [
       "Mal varlığına karşı suçlar                                    3137\n",
       "Hürriyete karşı suçlar                                        2883\n",
       "Vücut dokunulmazlığına karşı suçlar                           2684\n",
       "others                                                        2364\n",
       "Kamu güvenine karşı suçlar                                    1993\n",
       "Şerefe karşı suçlar                                           1317\n",
       "Kamunun sağlığına karşı suçlar                                1216\n",
       "Kamu idaresinin güvenilirliğine ve işleyişine karşı suçlar     837\n",
       "Anayasal düzene ve bu düzenin işleyişine karşı suçlar          779\n",
       "Cinsel dokunulmazlığa karşı suçlar                             607\n",
       "Adliyeye karşı suçlar                                          401\n",
       "Hayata karşı suçlar                                            254\n",
       "Genel tehlike yaratan suçlar                                   249\n",
       "Çevreye karşı suçlar                                           171\n",
       "Ekonomi, sanayi ve ticarete ilişkin suçlar                      98\n",
       "Bilişim alanında suçlar                                         91\n",
       "Genel ahlaka karşı suçlar                                       82\n",
       "Göçmen kaçakçılığı ve insan ticareti                            59\n",
       "Aile düzenine karşı suçlar                                      58\n",
       "Name: YeniSuclar, dtype: int64"
      ]
     },
     "execution_count": 10,
     "metadata": {},
     "output_type": "execute_result"
    }
   ],
   "source": [
    "label_map = {}\n",
    "count = 0\n",
    "for label in df.YeniSuclar.unique():\n",
    "    label_map[label] = count\n",
    "    count += 1\n",
    "df['NUM_LABEL'] = df.YeniSuclar.map(label_map)\n",
    "#print(label_map)\n",
    "df.YeniSuclar.value_counts()"
   ]
  },
  {
   "cell_type": "code",
   "execution_count": 11,
   "id": "96a624aa",
   "metadata": {},
   "outputs": [
    {
     "name": "stdout",
     "output_type": "stream",
     "text": [
      "(15424,)\n",
      "(3856,)\n",
      "(15424,)\n",
      "(3856,)\n"
     ]
    }
   ],
   "source": [
    "texts = df.ictihat\n",
    "label_nums = df.NUM_LABEL\n",
    "\n",
    "X_train, X_test, y_train, y_test = train_test_split(texts, label_nums, test_size=0.2)\n",
    "\n",
    "print(X_train.shape)\n",
    "print(X_test.shape)\n",
    "print(y_train.shape)\n",
    "print(y_test.shape)"
   ]
  },
  {
   "cell_type": "code",
   "execution_count": 12,
   "id": "5518d1cc",
   "metadata": {},
   "outputs": [],
   "source": [
    "def clean_text(text):\n",
    "    alphabetic_only = [word for word in text.split() if word.isalpha()]\n",
    "    lower_case_only = [word.lower() for word in alphabetic_only]\n",
    "    stopwords_tr = set(stopwords.words(\"turkish\"))\n",
    "    return [word for word in lower_case_only if word not in stopwords_tr]\n"
   ]
  },
  {
   "cell_type": "code",
   "execution_count": 13,
   "id": "b47a7280",
   "metadata": {},
   "outputs": [
    {
     "data": {
      "text/plain": [
       "<15424x23422 sparse matrix of type '<class 'numpy.int64'>'\n",
       "\twith 1543725 stored elements in Compressed Sparse Row format>"
      ]
     },
     "execution_count": 13,
     "metadata": {},
     "output_type": "execute_result"
    }
   ],
   "source": [
    "vect = CountVectorizer(analyzer='word', tokenizer=clean_text)\n",
    "X_train_dtm = vect.fit_transform(X_train.astype(\"U\"))\n",
    "X_train_dtm"
   ]
  },
  {
   "cell_type": "code",
   "execution_count": 14,
   "id": "d112a937",
   "metadata": {},
   "outputs": [
    {
     "data": {
      "text/plain": [
       "<3856x23422 sparse matrix of type '<class 'numpy.int64'>'\n",
       "\twith 384498 stored elements in Compressed Sparse Row format>"
      ]
     },
     "execution_count": 14,
     "metadata": {},
     "output_type": "execute_result"
    }
   ],
   "source": [
    "X_test_dtm = vect.transform(X_test.astype(\"U\"))\n",
    "X_test_dtm"
   ]
  },
  {
   "cell_type": "code",
   "execution_count": 15,
   "id": "0b4bae8b",
   "metadata": {},
   "outputs": [
    {
     "data": {
      "text/plain": [
       "'\\nvect2 = TfidfTransformer()\\nX_train_tfidf = vect2.fit_transform(X_train_dtm.astype(\"U\"))\\nX_train_tfidf\\n'"
      ]
     },
     "execution_count": 15,
     "metadata": {},
     "output_type": "execute_result"
    }
   ],
   "source": [
    "\"\"\"\n",
    "vect2 = TfidfTransformer()\n",
    "X_train_tfidf = vect2.fit_transform(X_train_dtm.astype(\"U\"))\n",
    "X_train_tfidf\n",
    "\"\"\""
   ]
  },
  {
   "cell_type": "code",
   "execution_count": 16,
   "id": "c2f0b7f5",
   "metadata": {},
   "outputs": [
    {
     "data": {
      "text/plain": [
       "'\\nX_test_tfidf = vect2.transform(X_test_dtm.astype(\"U\"))\\nX_test_tfidf\\n'"
      ]
     },
     "execution_count": 16,
     "metadata": {},
     "output_type": "execute_result"
    }
   ],
   "source": [
    "\"\"\"\n",
    "X_test_tfidf = vect2.transform(X_test_dtm.astype(\"U\"))\n",
    "X_test_tfidf\n",
    "\"\"\""
   ]
  },
  {
   "cell_type": "code",
   "execution_count": 24,
   "id": "4876905e",
   "metadata": {},
   "outputs": [
    {
     "data": {
      "text/plain": [
       "LogisticRegression(max_iter=3000)"
      ]
     },
     "execution_count": 24,
     "metadata": {},
     "output_type": "execute_result"
    }
   ],
   "source": [
    "model = LogisticRegression(solver='lbfgs', max_iter=3000)\n",
    "model.fit(X_train_dtm, y_train)"
   ]
  },
  {
   "cell_type": "code",
   "execution_count": 26,
   "id": "71e0f580",
   "metadata": {},
   "outputs": [
    {
     "name": "stdout",
     "output_type": "stream",
     "text": [
      "********************************LogisticRegression********************************\n",
      "0.5842842323651453\n",
      "********************************Confusion Matrix********************************\n",
      "[[ 72 104  32  10   4  27   0   1   0   0   3   0   0   0   1   0   1   0\n",
      "    0]\n",
      " [ 87 244  69  18  94   7   0  10   8   0  28   2   0   4   0   0   0   0\n",
      "    1]\n",
      " [ 40  59 380  19  14   5   0  22   3   2   7   0   0   0   0   0   0   1\n",
      "    2]\n",
      " [  8  60  23 172  76  16  16  16   7  17  16   2   1   0  38   0   2   0\n",
      "    2]\n",
      " [  3  55  14  58 414  12   0   0   3   2   2   0   3   0  35   0   0   0\n",
      "    0]\n",
      " [ 19   9   7  22  21  84   0   2   3   0   0   2   0   0   1   0   0   0\n",
      "    1]\n",
      " [  0   0   0  11   0   0 228   0   1   0   0   0   0   0   9   0   0   0\n",
      "    0]\n",
      " [  2  27   8  15   2   2   0  90   3   1   0   1   1   1   0   1   0   0\n",
      "    0]\n",
      " [  1  10   0  11   6   0   0  16  53   0   0   0   0   2   4   0   0   0\n",
      "    1]\n",
      " [  1   1   3  19   0   0   0   5   0  28   0   0   0   0   0   0   0   0\n",
      "    0]\n",
      " [  4  32   0   8   0   0   0   0   0   0  80   0   0   1   0   0   0   0\n",
      "    0]\n",
      " [  2   1   0   9   4   2   0   0   0   0   0   6   0   0   1   0   0   0\n",
      "    0]\n",
      " [  0   0   0   4   2   0   0   1   2   0   0   0   4   0   2   0   0   0\n",
      "    0]\n",
      " [  0   2   0   0   0   0   0   0   1   0   1   0   0  10   0   0   0   0\n",
      "    0]\n",
      " [  0   1   0  24  29   1   5   0   1   0   0   0   2   0 318   1   0   0\n",
      "    0]\n",
      " [  3   1   0   1   0   2   0   0   0   0   0   0   0   0   0  21   0   0\n",
      "    1]\n",
      " [  2   3   2   2   0   2   0   0   0   0   0   0   0   0   0   1   4   0\n",
      "    0]\n",
      " [  1   3   0   1   0   0   0   0   0   0   0   0   0   0   0   0   0  10\n",
      "    0]\n",
      " [  0   0   2   1   0   3   0   0   3   0   0   0   0   0   2   0   0   0\n",
      "   35]]\n",
      "********************************Precision score macro********************************\n",
      "0.6050460351830717\n",
      "********************************Precision score micro********************************\n",
      "0.5842842323651453\n",
      "********************************Precision score weighted********************************\n",
      "0.5813078783548148\n",
      "********************************Precision score null********************************\n",
      "[0.29387755 0.39869281 0.7037037  0.42469136 0.62162162 0.51533742\n",
      " 0.91566265 0.55214724 0.60227273 0.56       0.58394161 0.46153846\n",
      " 0.36363636 0.55555556 0.77372263 0.875      0.57142857 0.90909091\n",
      " 0.81395349]\n",
      "********************************Classification report********************************\n",
      "              precision    recall  f1-score   support\n",
      "\n",
      "           0       0.29      0.28      0.29       255\n",
      "           1       0.40      0.43      0.41       572\n",
      "           2       0.70      0.69      0.69       554\n",
      "           3       0.42      0.36      0.39       472\n",
      "           4       0.62      0.69      0.65       601\n",
      "           5       0.52      0.49      0.50       171\n",
      "           6       0.92      0.92      0.92       249\n",
      "           7       0.55      0.58      0.57       154\n",
      "           8       0.60      0.51      0.55       104\n",
      "           9       0.56      0.49      0.52        57\n",
      "          10       0.58      0.64      0.61       125\n",
      "          11       0.46      0.24      0.32        25\n",
      "          12       0.36      0.27      0.31        15\n",
      "          13       0.56      0.71      0.63        14\n",
      "          14       0.77      0.83      0.80       382\n",
      "          15       0.88      0.72      0.79        29\n",
      "          16       0.57      0.25      0.35        16\n",
      "          17       0.91      0.67      0.77        15\n",
      "          18       0.81      0.76      0.79        46\n",
      "\n",
      "    accuracy                           0.58      3856\n",
      "   macro avg       0.61      0.55      0.57      3856\n",
      "weighted avg       0.58      0.58      0.58      3856\n",
      "\n"
     ]
    }
   ],
   "source": [
    "y_pred_class = model.predict(X_test_dtm)\n",
    "print('********************************LogisticRegression********************************')\n",
    "print(metrics.accuracy_score(y_test, y_pred_class))\n",
    "print('********************************Confusion Matrix********************************')\n",
    "print(confusion_matrix(y_test, y_pred_class))\n",
    "print('********************************Precision score macro********************************')\n",
    "print(precision_score(y_test, y_pred_class, average='macro', zero_division=1))\n",
    "print('********************************Precision score micro********************************')\n",
    "print(precision_score(y_test, y_pred_class, average='micro', zero_division=1))\n",
    "print('********************************Precision score weighted********************************')\n",
    "print(precision_score(y_test, y_pred_class, average='weighted', zero_division=1))\n",
    "print('********************************Precision score null********************************')\n",
    "print(precision_score(y_test, y_pred_class, average=None, zero_division=1))\n",
    "print('********************************Classification report********************************')\n",
    "print(classification_report(y_test, y_pred_class, zero_division=1))"
   ]
  },
  {
   "cell_type": "code",
   "execution_count": null,
   "id": "07e7cf88",
   "metadata": {},
   "outputs": [],
   "source": []
  }
 ],
 "metadata": {
  "kernelspec": {
   "display_name": "Python 3",
   "language": "python",
   "name": "python3"
  },
  "language_info": {
   "codemirror_mode": {
    "name": "ipython",
    "version": 3
   },
   "file_extension": ".py",
   "mimetype": "text/x-python",
   "name": "python",
   "nbconvert_exporter": "python",
   "pygments_lexer": "ipython3",
   "version": "3.8.8"
  }
 },
 "nbformat": 4,
 "nbformat_minor": 5
}
