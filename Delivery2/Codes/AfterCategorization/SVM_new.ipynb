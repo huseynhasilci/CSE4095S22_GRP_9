{
 "cells": [
  {
   "cell_type": "code",
   "execution_count": 14,
   "id": "048df9a8",
   "metadata": {},
   "outputs": [],
   "source": [
    "import pandas as pd\n",
    "from sklearn.feature_extraction.text import CountVectorizer\n",
    "from sklearn.model_selection import train_test_split\n",
    "from sklearn import metrics\n",
    "from nltk.corpus import stopwords\n",
    "from sklearn.feature_extraction.text import TfidfTransformer\n",
    "from sklearn import svm\n",
    "from sklearn.metrics import confusion_matrix, classification_report, precision_score"
   ]
  },
  {
   "cell_type": "code",
   "execution_count": 2,
   "id": "4aefcc60",
   "metadata": {},
   "outputs": [
    {
     "data": {
      "text/html": [
       "<div>\n",
       "<style scoped>\n",
       "    .dataframe tbody tr th:only-of-type {\n",
       "        vertical-align: middle;\n",
       "    }\n",
       "\n",
       "    .dataframe tbody tr th {\n",
       "        vertical-align: top;\n",
       "    }\n",
       "\n",
       "    .dataframe thead th {\n",
       "        text-align: right;\n",
       "    }\n",
       "</style>\n",
       "<table border=\"1\" class=\"dataframe\">\n",
       "  <thead>\n",
       "    <tr style=\"text-align: right;\">\n",
       "      <th></th>\n",
       "      <th>Unnamed: 0</th>\n",
       "      <th>Unnamed: 0.1</th>\n",
       "      <th>ictihat</th>\n",
       "      <th>Suç</th>\n",
       "      <th>YeniSuclar</th>\n",
       "    </tr>\n",
       "  </thead>\n",
       "  <tbody>\n",
       "    <tr>\n",
       "      <th>0</th>\n",
       "      <td>0</td>\n",
       "      <td>0</td>\n",
       "      <td>HÜKÜMLER : Mahkumiyet, beraat, hükmün açıkl...</td>\n",
       "      <td>hakaret</td>\n",
       "      <td>Şerefe karşı suçlar</td>\n",
       "    </tr>\n",
       "    <tr>\n",
       "      <th>1</th>\n",
       "      <td>1</td>\n",
       "      <td>1</td>\n",
       "      <td>HÜKÜMLER : Mahkumiyet, beraat, hükmün açıkl...</td>\n",
       "      <td>tehdit</td>\n",
       "      <td>Hürriyete karşı suçlar</td>\n",
       "    </tr>\n",
       "    <tr>\n",
       "      <th>2</th>\n",
       "      <td>2</td>\n",
       "      <td>2</td>\n",
       "      <td>HÜKÜMLER : Mahkumiyet, beraat, hükmün açıkl...</td>\n",
       "      <td>yaralama</td>\n",
       "      <td>Vücut dokunulmazlığına karşı suçlar</td>\n",
       "    </tr>\n",
       "    <tr>\n",
       "      <th>3</th>\n",
       "      <td>3</td>\n",
       "      <td>3</td>\n",
       "      <td>HÜKÜMLER : Beraat    Yerel Mahkemece bozma ...</td>\n",
       "      <td>tehdit</td>\n",
       "      <td>Hürriyete karşı suçlar</td>\n",
       "    </tr>\n",
       "    <tr>\n",
       "      <th>4</th>\n",
       "      <td>4</td>\n",
       "      <td>4</td>\n",
       "      <td>HÜKÜMLER : Beraat    Yerel Mahkemece bozma ...</td>\n",
       "      <td>hakaret</td>\n",
       "      <td>Şerefe karşı suçlar</td>\n",
       "    </tr>\n",
       "  </tbody>\n",
       "</table>\n",
       "</div>"
      ],
      "text/plain": [
       "   Unnamed: 0  Unnamed: 0.1  \\\n",
       "0           0             0   \n",
       "1           1             1   \n",
       "2           2             2   \n",
       "3           3             3   \n",
       "4           4             4   \n",
       "\n",
       "                                             ictihat        Suç  \\\n",
       "0     HÜKÜMLER : Mahkumiyet, beraat, hükmün açıkl...    hakaret   \n",
       "1     HÜKÜMLER : Mahkumiyet, beraat, hükmün açıkl...     tehdit   \n",
       "2     HÜKÜMLER : Mahkumiyet, beraat, hükmün açıkl...   yaralama   \n",
       "3     HÜKÜMLER : Beraat    Yerel Mahkemece bozma ...     tehdit   \n",
       "4     HÜKÜMLER : Beraat    Yerel Mahkemece bozma ...    hakaret   \n",
       "\n",
       "                            YeniSuclar  \n",
       "0                  Şerefe karşı suçlar  \n",
       "1               Hürriyete karşı suçlar  \n",
       "2  Vücut dokunulmazlığına karşı suçlar  \n",
       "3               Hürriyete karşı suçlar  \n",
       "4                  Şerefe karşı suçlar  "
      ]
     },
     "execution_count": 2,
     "metadata": {},
     "output_type": "execute_result"
    }
   ],
   "source": [
    "path_csv_file = \"C:/Users/husey/PycharmProjects/pythonProject12/IntToNLP_GRP_9/latest_hukums_with_classes_csv_file1.csv\"\n",
    "\n",
    "df = pd.read_csv(path_csv_file)\n",
    "df.head()"
   ]
  },
  {
   "cell_type": "code",
   "execution_count": 4,
   "id": "0dfc8c69",
   "metadata": {},
   "outputs": [
    {
     "data": {
      "text/plain": [
       "Mal varlığına karşı suçlar                                    3137\n",
       "Hürriyete karşı suçlar                                        2883\n",
       "Vücut dokunulmazlığına karşı suçlar                           2684\n",
       "others                                                        2364\n",
       "Kamu güvenine karşı suçlar                                    1993\n",
       "Şerefe karşı suçlar                                           1317\n",
       "Kamunun sağlığına karşı suçlar                                1216\n",
       "Kamu idaresinin güvenilirliğine ve işleyişine karşı suçlar     837\n",
       "Anayasal düzene ve bu düzenin işleyişine karşı suçlar          779\n",
       "Cinsel dokunulmazlığa karşı suçlar                             607\n",
       "Adliyeye karşı suçlar                                          401\n",
       "Hayata karşı suçlar                                            254\n",
       "Genel tehlike yaratan suçlar                                   249\n",
       "Çevreye karşı suçlar                                           171\n",
       "Ekonomi, sanayi ve ticarete ilişkin suçlar                      98\n",
       "Bilişim alanında suçlar                                         91\n",
       "Genel ahlaka karşı suçlar                                       82\n",
       "Göçmen kaçakçılığı ve insan ticareti                            59\n",
       "Aile düzenine karşı suçlar                                      58\n",
       "Name: YeniSuclar, dtype: int64"
      ]
     },
     "execution_count": 4,
     "metadata": {},
     "output_type": "execute_result"
    }
   ],
   "source": [
    "label_map = {}\n",
    "count = 0\n",
    "for label in df.YeniSuclar.unique():\n",
    "    label_map[label] = count\n",
    "    count += 1\n",
    "df['NUM_LABEL'] = df.YeniSuclar.map(label_map)\n",
    "#print(label_map)\n",
    "df.YeniSuclar.value_counts()"
   ]
  },
  {
   "cell_type": "code",
   "execution_count": 6,
   "id": "f4285bc9",
   "metadata": {},
   "outputs": [
    {
     "name": "stdout",
     "output_type": "stream",
     "text": [
      "(15424,)\n",
      "(3856,)\n",
      "(15424,)\n",
      "(3856,)\n"
     ]
    }
   ],
   "source": [
    "texts = df.ictihat\n",
    "label_nums = df.NUM_LABEL\n",
    "\n",
    "X_train, X_test, y_train, y_test = train_test_split(texts, label_nums, test_size=0.2)\n",
    "\n",
    "print(X_train.shape)\n",
    "print(X_test.shape)\n",
    "print(y_train.shape)\n",
    "print(y_test.shape)"
   ]
  },
  {
   "cell_type": "code",
   "execution_count": 7,
   "id": "69d88b8d",
   "metadata": {},
   "outputs": [],
   "source": [
    "def clean_text(text):\n",
    "    alphabetic_only = [word for word in text.split() if word.isalpha()]\n",
    "    lower_case_only = [word.lower() for word in alphabetic_only]\n",
    "    stopwords_tr = set(stopwords.words(\"turkish\"))\n",
    "    return [word for word in lower_case_only if word not in stopwords_tr]\n"
   ]
  },
  {
   "cell_type": "code",
   "execution_count": 8,
   "id": "b6e3bfcb",
   "metadata": {},
   "outputs": [
    {
     "data": {
      "text/plain": [
       "<15424x23472 sparse matrix of type '<class 'numpy.int64'>'\n",
       "\twith 1547633 stored elements in Compressed Sparse Row format>"
      ]
     },
     "execution_count": 8,
     "metadata": {},
     "output_type": "execute_result"
    }
   ],
   "source": [
    "vect = CountVectorizer(analyzer='word', tokenizer=clean_text)\n",
    "X_train_dtm = vect.fit_transform(X_train.astype(\"U\"))\n",
    "X_train_dtm"
   ]
  },
  {
   "cell_type": "code",
   "execution_count": 9,
   "id": "d9bb0a6f",
   "metadata": {},
   "outputs": [
    {
     "data": {
      "text/plain": [
       "<3856x23472 sparse matrix of type '<class 'numpy.int64'>'\n",
       "\twith 380648 stored elements in Compressed Sparse Row format>"
      ]
     },
     "execution_count": 9,
     "metadata": {},
     "output_type": "execute_result"
    }
   ],
   "source": [
    "X_test_dtm = vect.transform(X_test.astype(\"U\"))\n",
    "X_test_dtm"
   ]
  },
  {
   "cell_type": "code",
   "execution_count": 10,
   "id": "6c771d91",
   "metadata": {},
   "outputs": [
    {
     "data": {
      "text/plain": [
       "'\\nvect2 = TfidfTransformer()\\nX_train_tfidf = vect2.fit_transform(X_train_dtm.astype(\"U\"))\\nX_train_tfidf\\n'"
      ]
     },
     "execution_count": 10,
     "metadata": {},
     "output_type": "execute_result"
    }
   ],
   "source": [
    "\"\"\"\n",
    "vect2 = TfidfTransformer()\n",
    "X_train_tfidf = vect2.fit_transform(X_train_dtm.astype(\"U\"))\n",
    "X_train_tfidf\n",
    "\"\"\""
   ]
  },
  {
   "cell_type": "code",
   "execution_count": 11,
   "id": "920daa52",
   "metadata": {},
   "outputs": [
    {
     "data": {
      "text/plain": [
       "'\\nX_test_tfidf = vect2.transform(X_test_dtm.astype(\"U\"))\\nX_test_tfidf\\n'"
      ]
     },
     "execution_count": 11,
     "metadata": {},
     "output_type": "execute_result"
    }
   ],
   "source": [
    "\"\"\"\n",
    "X_test_tfidf = vect2.transform(X_test_dtm.astype(\"U\"))\n",
    "X_test_tfidf\n",
    "\"\"\""
   ]
  },
  {
   "cell_type": "code",
   "execution_count": 12,
   "id": "13b526b0",
   "metadata": {},
   "outputs": [
    {
     "data": {
      "text/plain": [
       "SVC(gamma='auto', kernel='linear')"
      ]
     },
     "execution_count": 12,
     "metadata": {},
     "output_type": "execute_result"
    }
   ],
   "source": [
    "model = svm.SVC(C=1.0, kernel='linear', degree=3, gamma='auto')\n",
    "model.fit(X_train_dtm, y_train)"
   ]
  },
  {
   "cell_type": "code",
   "execution_count": 16,
   "id": "6935531a",
   "metadata": {},
   "outputs": [
    {
     "name": "stdout",
     "output_type": "stream",
     "text": [
      "********************************SVM********************************\n",
      "0.578838174273859\n",
      "********************************Confusion Matrix********************************\n",
      "[[ 96  83  36   6   7  31   0   1   2   0   1   0   0   0   0   1   0   0\n",
      "    0]\n",
      " [105 232  62  32  79   4   0  14  10   0  32   1   0   0   0   2   1   0\n",
      "    4]\n",
      " [ 39  61 367  24  18   4   0  16   3   4   6   0   0   0   1   0   0   0\n",
      "    2]\n",
      " [ 17  45  20 190  72  14  15  17  10  14   8   1   1   1  39   3   1   0\n",
      "    0]\n",
      " [  7  77  14  54 458  10   0   1   0   4   1   0   3   0  25   0   0   0\n",
      "    0]\n",
      " [ 28   6   6  19  30  74   0   0   0   0   0   3   0   0   3   0   0   0\n",
      "    1]\n",
      " [  0   0   0   4   0   0 230   0   0   0   0   0   0   0   5   0   0   0\n",
      "    0]\n",
      " [  2  18  15  19   1   2   0  82   6   4   0   0   0   2   1   0   0   0\n",
      "    0]\n",
      " [  2   7   0  10   4   1   1   9  44   0   0   0   0   0   2   0   0   0\n",
      "    0]\n",
      " [  0   1   2  16   2   0   0   0   0  27   0   0   0   0   0   0   0   0\n",
      "    0]\n",
      " [  3  28   2  10   0   0   0   0   0   0  72   0   0   1   0   0   1   0\n",
      "    0]\n",
      " [  0   2   0  11   1   3   0   0   0   0   0   3   0   0   1   0   0   0\n",
      "    0]\n",
      " [  0   1   0   5   2   0   0   0   0   0   0   0   5   0   2   0   0   0\n",
      "    0]\n",
      " [  0   3   0   2   0   0   0   0   0   0   0   0   0   2   0   0   0   0\n",
      "    0]\n",
      " [  3   1   0  41  34   1   8   0   5   0   0   0   8   0 276   4   0   0\n",
      "    0]\n",
      " [  1   2   0   3   1   0   0   0   0   0   0   0   0   0   2  18   1   0\n",
      "    4]\n",
      " [  3   4   0   1   0   0   0   0   0   0   1   0   0   0   0   0   8   0\n",
      "    0]\n",
      " [  1   1   0   0   0   0   0   0   0   0   0   0   0   0   0   0   0  11\n",
      "    0]\n",
      " [  2   4   4   2   0   2   0   0   3   0   0   0   0   0   1   0   0   0\n",
      "   37]]\n",
      "********************************Precision score macro********************************\n",
      "0.5770581582438767\n",
      "********************************Precision score micro********************************\n",
      "0.578838174273859\n",
      "********************************Precision score weighted********************************\n",
      "0.5803676229680585\n",
      "********************************Precision score null********************************\n",
      "[0.31067961 0.40277778 0.69507576 0.42316258 0.64598025 0.50684932\n",
      " 0.90551181 0.58571429 0.53012048 0.50943396 0.59504132 0.375\n",
      " 0.29411765 0.33333333 0.77094972 0.64285714 0.66666667 1.\n",
      " 0.77083333]\n",
      "********************************Classification report********************************\n",
      "              precision    recall  f1-score   support\n",
      "\n",
      "           0       0.31      0.36      0.34       264\n",
      "           1       0.40      0.40      0.40       578\n",
      "           2       0.70      0.67      0.68       545\n",
      "           3       0.42      0.41      0.41       468\n",
      "           4       0.65      0.70      0.67       654\n",
      "           5       0.51      0.44      0.47       170\n",
      "           6       0.91      0.96      0.93       239\n",
      "           7       0.59      0.54      0.56       152\n",
      "           8       0.53      0.55      0.54        80\n",
      "           9       0.51      0.56      0.53        48\n",
      "          10       0.60      0.62      0.61       117\n",
      "          11       0.38      0.14      0.21        21\n",
      "          12       0.29      0.33      0.31        15\n",
      "          13       0.33      0.29      0.31         7\n",
      "          14       0.77      0.72      0.75       381\n",
      "          15       0.64      0.56      0.60        32\n",
      "          16       0.67      0.47      0.55        17\n",
      "          17       1.00      0.85      0.92        13\n",
      "          18       0.77      0.67      0.72        55\n",
      "\n",
      "    accuracy                           0.58      3856\n",
      "   macro avg       0.58      0.54      0.55      3856\n",
      "weighted avg       0.58      0.58      0.58      3856\n",
      "\n"
     ]
    }
   ],
   "source": [
    "y_pred_class = model.predict(X_test_dtm)\n",
    "print('********************************SVM********************************')\n",
    "print(metrics.accuracy_score(y_test, y_pred_class))\n",
    "print('********************************Confusion Matrix********************************')\n",
    "print(confusion_matrix(y_test, y_pred_class))\n",
    "print('********************************Precision score macro********************************')\n",
    "print(precision_score(y_test, y_pred_class, average='macro', zero_division=1))\n",
    "print('********************************Precision score micro********************************')\n",
    "print(precision_score(y_test, y_pred_class, average='micro', zero_division=1))\n",
    "print('********************************Precision score weighted********************************')\n",
    "print(precision_score(y_test, y_pred_class, average='weighted', zero_division=1))\n",
    "print('********************************Precision score null********************************')\n",
    "print(precision_score(y_test, y_pred_class, average=None, zero_division=1))\n",
    "print('********************************Classification report********************************')\n",
    "print(classification_report(y_test, y_pred_class, zero_division=1))"
   ]
  },
  {
   "cell_type": "code",
   "execution_count": null,
   "id": "0dba1efb",
   "metadata": {},
   "outputs": [],
   "source": []
  },
  {
   "cell_type": "code",
   "execution_count": null,
   "id": "03a2aafa",
   "metadata": {},
   "outputs": [],
   "source": []
  }
 ],
 "metadata": {
  "kernelspec": {
   "display_name": "Python 3",
   "language": "python",
   "name": "python3"
  },
  "language_info": {
   "codemirror_mode": {
    "name": "ipython",
    "version": 3
   },
   "file_extension": ".py",
   "mimetype": "text/x-python",
   "name": "python",
   "nbconvert_exporter": "python",
   "pygments_lexer": "ipython3",
   "version": "3.8.8"
  }
 },
 "nbformat": 4,
 "nbformat_minor": 5
}
