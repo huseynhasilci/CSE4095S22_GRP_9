{
 "cells": [
  {
   "cell_type": "code",
   "execution_count": 28,
   "id": "e6d4d233",
   "metadata": {},
   "outputs": [],
   "source": [
    "import pandas as pd\n",
    "from sklearn.feature_extraction.text import CountVectorizer\n",
    "from sklearn.model_selection import train_test_split\n",
    "from sklearn.naive_bayes import MultinomialNB\n",
    "from sklearn.linear_model import LogisticRegression\n",
    "from sklearn import svm\n",
    "from sklearn import metrics\n",
    "from nltk.corpus import stopwords\n",
    "from sklearn.feature_extraction.text import TfidfVectorizer\n",
    "from sklearn.metrics import confusion_matrix, classification_report, precision_score"
   ]
  },
  {
   "cell_type": "code",
   "execution_count": 29,
   "id": "e9add36a",
   "metadata": {},
   "outputs": [],
   "source": [
    "path_csv_file = \"C:/Users/husey/PycharmProjects/pythonProject12/IntToNLP_GRP_9/latest_hukums_with_classes_csv_file1.csv\""
   ]
  },
  {
   "cell_type": "code",
   "execution_count": 30,
   "id": "cef72b0b",
   "metadata": {},
   "outputs": [
    {
     "data": {
      "text/html": [
       "<div>\n",
       "<style scoped>\n",
       "    .dataframe tbody tr th:only-of-type {\n",
       "        vertical-align: middle;\n",
       "    }\n",
       "\n",
       "    .dataframe tbody tr th {\n",
       "        vertical-align: top;\n",
       "    }\n",
       "\n",
       "    .dataframe thead th {\n",
       "        text-align: right;\n",
       "    }\n",
       "</style>\n",
       "<table border=\"1\" class=\"dataframe\">\n",
       "  <thead>\n",
       "    <tr style=\"text-align: right;\">\n",
       "      <th></th>\n",
       "      <th>Unnamed: 0</th>\n",
       "      <th>Unnamed: 0.1</th>\n",
       "      <th>ictihat</th>\n",
       "      <th>Suç</th>\n",
       "      <th>YeniSuclar</th>\n",
       "    </tr>\n",
       "  </thead>\n",
       "  <tbody>\n",
       "    <tr>\n",
       "      <th>0</th>\n",
       "      <td>0</td>\n",
       "      <td>0</td>\n",
       "      <td>HÜKÜMLER : Mahkumiyet, beraat, hükmün açıkl...</td>\n",
       "      <td>hakaret</td>\n",
       "      <td>Şerefe karşı suçlar</td>\n",
       "    </tr>\n",
       "    <tr>\n",
       "      <th>1</th>\n",
       "      <td>1</td>\n",
       "      <td>1</td>\n",
       "      <td>HÜKÜMLER : Mahkumiyet, beraat, hükmün açıkl...</td>\n",
       "      <td>tehdit</td>\n",
       "      <td>Hürriyete karşı suçlar</td>\n",
       "    </tr>\n",
       "    <tr>\n",
       "      <th>2</th>\n",
       "      <td>2</td>\n",
       "      <td>2</td>\n",
       "      <td>HÜKÜMLER : Mahkumiyet, beraat, hükmün açıkl...</td>\n",
       "      <td>yaralama</td>\n",
       "      <td>Vücut dokunulmazlığına karşı suçlar</td>\n",
       "    </tr>\n",
       "    <tr>\n",
       "      <th>3</th>\n",
       "      <td>3</td>\n",
       "      <td>3</td>\n",
       "      <td>HÜKÜMLER : Beraat    Yerel Mahkemece bozma ...</td>\n",
       "      <td>tehdit</td>\n",
       "      <td>Hürriyete karşı suçlar</td>\n",
       "    </tr>\n",
       "    <tr>\n",
       "      <th>4</th>\n",
       "      <td>4</td>\n",
       "      <td>4</td>\n",
       "      <td>HÜKÜMLER : Beraat    Yerel Mahkemece bozma ...</td>\n",
       "      <td>hakaret</td>\n",
       "      <td>Şerefe karşı suçlar</td>\n",
       "    </tr>\n",
       "  </tbody>\n",
       "</table>\n",
       "</div>"
      ],
      "text/plain": [
       "   Unnamed: 0  Unnamed: 0.1  \\\n",
       "0           0             0   \n",
       "1           1             1   \n",
       "2           2             2   \n",
       "3           3             3   \n",
       "4           4             4   \n",
       "\n",
       "                                             ictihat        Suç  \\\n",
       "0     HÜKÜMLER : Mahkumiyet, beraat, hükmün açıkl...    hakaret   \n",
       "1     HÜKÜMLER : Mahkumiyet, beraat, hükmün açıkl...     tehdit   \n",
       "2     HÜKÜMLER : Mahkumiyet, beraat, hükmün açıkl...   yaralama   \n",
       "3     HÜKÜMLER : Beraat    Yerel Mahkemece bozma ...     tehdit   \n",
       "4     HÜKÜMLER : Beraat    Yerel Mahkemece bozma ...    hakaret   \n",
       "\n",
       "                            YeniSuclar  \n",
       "0                  Şerefe karşı suçlar  \n",
       "1               Hürriyete karşı suçlar  \n",
       "2  Vücut dokunulmazlığına karşı suçlar  \n",
       "3               Hürriyete karşı suçlar  \n",
       "4                  Şerefe karşı suçlar  "
      ]
     },
     "execution_count": 30,
     "metadata": {},
     "output_type": "execute_result"
    }
   ],
   "source": [
    "df = pd.read_csv(path_csv_file)\n",
    "df.head()"
   ]
  },
  {
   "cell_type": "code",
   "execution_count": 31,
   "id": "a5ffd4b2",
   "metadata": {},
   "outputs": [
    {
     "data": {
      "text/html": [
       "<div>\n",
       "<style scoped>\n",
       "    .dataframe tbody tr th:only-of-type {\n",
       "        vertical-align: middle;\n",
       "    }\n",
       "\n",
       "    .dataframe tbody tr th {\n",
       "        vertical-align: top;\n",
       "    }\n",
       "\n",
       "    .dataframe thead th {\n",
       "        text-align: right;\n",
       "    }\n",
       "</style>\n",
       "<table border=\"1\" class=\"dataframe\">\n",
       "  <thead>\n",
       "    <tr style=\"text-align: right;\">\n",
       "      <th></th>\n",
       "      <th>Unnamed: 0</th>\n",
       "      <th>Unnamed: 0.1</th>\n",
       "      <th>ictihat</th>\n",
       "      <th>Suç</th>\n",
       "      <th>YeniSuclar</th>\n",
       "      <th>NUM_LABEL</th>\n",
       "    </tr>\n",
       "  </thead>\n",
       "  <tbody>\n",
       "    <tr>\n",
       "      <th>0</th>\n",
       "      <td>0</td>\n",
       "      <td>0</td>\n",
       "      <td>HÜKÜMLER : Mahkumiyet, beraat, hükmün açıkl...</td>\n",
       "      <td>hakaret</td>\n",
       "      <td>Şerefe karşı suçlar</td>\n",
       "      <td>0</td>\n",
       "    </tr>\n",
       "    <tr>\n",
       "      <th>1</th>\n",
       "      <td>1</td>\n",
       "      <td>1</td>\n",
       "      <td>HÜKÜMLER : Mahkumiyet, beraat, hükmün açıkl...</td>\n",
       "      <td>tehdit</td>\n",
       "      <td>Hürriyete karşı suçlar</td>\n",
       "      <td>1</td>\n",
       "    </tr>\n",
       "    <tr>\n",
       "      <th>2</th>\n",
       "      <td>2</td>\n",
       "      <td>2</td>\n",
       "      <td>HÜKÜMLER : Mahkumiyet, beraat, hükmün açıkl...</td>\n",
       "      <td>yaralama</td>\n",
       "      <td>Vücut dokunulmazlığına karşı suçlar</td>\n",
       "      <td>2</td>\n",
       "    </tr>\n",
       "    <tr>\n",
       "      <th>3</th>\n",
       "      <td>3</td>\n",
       "      <td>3</td>\n",
       "      <td>HÜKÜMLER : Beraat    Yerel Mahkemece bozma ...</td>\n",
       "      <td>tehdit</td>\n",
       "      <td>Hürriyete karşı suçlar</td>\n",
       "      <td>1</td>\n",
       "    </tr>\n",
       "    <tr>\n",
       "      <th>4</th>\n",
       "      <td>4</td>\n",
       "      <td>4</td>\n",
       "      <td>HÜKÜMLER : Beraat    Yerel Mahkemece bozma ...</td>\n",
       "      <td>hakaret</td>\n",
       "      <td>Şerefe karşı suçlar</td>\n",
       "      <td>0</td>\n",
       "    </tr>\n",
       "  </tbody>\n",
       "</table>\n",
       "</div>"
      ],
      "text/plain": [
       "   Unnamed: 0  Unnamed: 0.1  \\\n",
       "0           0             0   \n",
       "1           1             1   \n",
       "2           2             2   \n",
       "3           3             3   \n",
       "4           4             4   \n",
       "\n",
       "                                             ictihat        Suç  \\\n",
       "0     HÜKÜMLER : Mahkumiyet, beraat, hükmün açıkl...    hakaret   \n",
       "1     HÜKÜMLER : Mahkumiyet, beraat, hükmün açıkl...     tehdit   \n",
       "2     HÜKÜMLER : Mahkumiyet, beraat, hükmün açıkl...   yaralama   \n",
       "3     HÜKÜMLER : Beraat    Yerel Mahkemece bozma ...     tehdit   \n",
       "4     HÜKÜMLER : Beraat    Yerel Mahkemece bozma ...    hakaret   \n",
       "\n",
       "                            YeniSuclar  NUM_LABEL  \n",
       "0                  Şerefe karşı suçlar          0  \n",
       "1               Hürriyete karşı suçlar          1  \n",
       "2  Vücut dokunulmazlığına karşı suçlar          2  \n",
       "3               Hürriyete karşı suçlar          1  \n",
       "4                  Şerefe karşı suçlar          0  "
      ]
     },
     "execution_count": 31,
     "metadata": {},
     "output_type": "execute_result"
    }
   ],
   "source": [
    "label_map = {}\n",
    "count = 0\n",
    "for label in df.YeniSuclar.unique():\n",
    "    label_map[label] = count\n",
    "    count += 1\n",
    "df['NUM_LABEL'] = df.YeniSuclar.map(label_map)\n",
    "#print(label_map)\n",
    "df.head()"
   ]
  },
  {
   "cell_type": "code",
   "execution_count": 32,
   "id": "a57ebc79",
   "metadata": {},
   "outputs": [
    {
     "data": {
      "text/plain": [
       "Mal varlığına karşı suçlar                                    3137\n",
       "Hürriyete karşı suçlar                                        2883\n",
       "Vücut dokunulmazlığına karşı suçlar                           2684\n",
       "others                                                        2364\n",
       "Kamu güvenine karşı suçlar                                    1993\n",
       "Şerefe karşı suçlar                                           1317\n",
       "Kamunun sağlığına karşı suçlar                                1216\n",
       "Kamu idaresinin güvenilirliğine ve işleyişine karşı suçlar     837\n",
       "Anayasal düzene ve bu düzenin işleyişine karşı suçlar          779\n",
       "Cinsel dokunulmazlığa karşı suçlar                             607\n",
       "Adliyeye karşı suçlar                                          401\n",
       "Hayata karşı suçlar                                            254\n",
       "Genel tehlike yaratan suçlar                                   249\n",
       "Çevreye karşı suçlar                                           171\n",
       "Ekonomi, sanayi ve ticarete ilişkin suçlar                      98\n",
       "Bilişim alanında suçlar                                         91\n",
       "Genel ahlaka karşı suçlar                                       82\n",
       "Göçmen kaçakçılığı ve insan ticareti                            59\n",
       "Aile düzenine karşı suçlar                                      58\n",
       "Name: YeniSuclar, dtype: int64"
      ]
     },
     "execution_count": 32,
     "metadata": {},
     "output_type": "execute_result"
    }
   ],
   "source": [
    "df.YeniSuclar.value_counts()"
   ]
  },
  {
   "cell_type": "code",
   "execution_count": 33,
   "id": "4f5bd4ab",
   "metadata": {},
   "outputs": [],
   "source": [
    "texts = df.ictihat\n",
    "label_nums = df.NUM_LABEL"
   ]
  },
  {
   "cell_type": "code",
   "execution_count": 34,
   "id": "baeb39f2",
   "metadata": {},
   "outputs": [],
   "source": [
    "X_train, X_test, y_train, y_test = train_test_split(texts, label_nums, test_size=0.2)"
   ]
  },
  {
   "cell_type": "code",
   "execution_count": 35,
   "id": "c61b848a",
   "metadata": {},
   "outputs": [
    {
     "name": "stdout",
     "output_type": "stream",
     "text": [
      "(15424,)\n",
      "(3856,)\n",
      "(15424,)\n",
      "(3856,)\n"
     ]
    }
   ],
   "source": [
    "print(X_train.shape)\n",
    "print(X_test.shape)\n",
    "print(y_train.shape)\n",
    "print(y_test.shape)"
   ]
  },
  {
   "cell_type": "code",
   "execution_count": 36,
   "id": "c75c9317",
   "metadata": {
    "scrolled": false
   },
   "outputs": [
    {
     "data": {
      "text/plain": [
       "5144        HÜKÜM : Mahkumiyet    Dosya incelenerek ger...\n",
       "8937        HÜKÜM : Mahkumiyet    UYAP aracılığı ile ME...\n",
       "18107       HÜKÜMLER : Mahkumiyet    Yerel Mahkemece bo...\n",
       "5885        Hüküm : 223/2-e gereğince ayrı ayrı beraat ...\n",
       "12103     Mahkeme : BURSA Bölge Adliye Mahkemesi 3. Cez...\n",
       "                               ...                        \n",
       "7650        HÜKÜMLER : Mahkumiyet    Mahalli mahkemece ...\n",
       "17405       HÜKÜMLER : Mahkumiyet    Yerel Mahkemece ve...\n",
       "9742        HÜKÜM : Mahkumiyet    Yapılan yargılamaya, ...\n",
       "12663       HÜKÜM : Beraat, müsadere    Yerel mahkemece...\n",
       "16153       HÜKÜM : Sanıklar ..., ..., ..., ..., ... ve...\n",
       "Name: ictihat, Length: 15424, dtype: object"
      ]
     },
     "execution_count": 36,
     "metadata": {},
     "output_type": "execute_result"
    }
   ],
   "source": [
    "X_train"
   ]
  },
  {
   "cell_type": "code",
   "execution_count": 37,
   "id": "ec70ca10",
   "metadata": {},
   "outputs": [],
   "source": [
    "def clean_text(text):\n",
    "    alphabetic_only = [word for word in text.split() if word.isalpha()]\n",
    "    lower_case_only = [word.lower() for word in alphabetic_only]\n",
    "    stopwords_tr = set(stopwords.words(\"turkish\"))\n",
    "    return [word for word in lower_case_only if word not in stopwords_tr]"
   ]
  },
  {
   "cell_type": "code",
   "execution_count": 38,
   "id": "27ae82ce",
   "metadata": {},
   "outputs": [
    {
     "data": {
      "text/plain": [
       "'\\nvect = CountVectorizer(analyzer=\\'word\\', tokenizer=clean_text)\\nX_train_dtm = vect.fit_transform(X_train.astype(\"U\"))\\nX_train_dtm\\n'"
      ]
     },
     "execution_count": 38,
     "metadata": {},
     "output_type": "execute_result"
    }
   ],
   "source": [
    "\"\"\"\n",
    "vect = CountVectorizer(analyzer='word', tokenizer=clean_text)\n",
    "X_train_dtm = vect.fit_transform(X_train.astype(\"U\"))\n",
    "X_train_dtm\n",
    "\"\"\""
   ]
  },
  {
   "cell_type": "code",
   "execution_count": 39,
   "id": "ffdfc56e",
   "metadata": {},
   "outputs": [
    {
     "data": {
      "text/plain": [
       "'\\nX_test_dtm = vect.transform(X_test.astype(\"U\"))\\nX_test_dtm\\n'"
      ]
     },
     "execution_count": 39,
     "metadata": {},
     "output_type": "execute_result"
    }
   ],
   "source": [
    "\"\"\"\n",
    "X_test_dtm = vect.transform(X_test.astype(\"U\"))\n",
    "X_test_dtm\n",
    "\"\"\""
   ]
  },
  {
   "cell_type": "code",
   "execution_count": 40,
   "id": "9753def7",
   "metadata": {},
   "outputs": [],
   "source": [
    "vect2 = TfidfVectorizer()\n",
    "vect2.fit(texts.astype(\"U\"))\n",
    "\n",
    "Train_X_Tfidf = vect2.transform(X_train.astype(\"U\"))\n",
    "Test_X_Tfidf = vect2.transform(X_test.astype(\"U\"))"
   ]
  },
  {
   "cell_type": "code",
   "execution_count": 43,
   "id": "d3ffff98",
   "metadata": {},
   "outputs": [
    {
     "data": {
      "text/plain": [
       "SVC(gamma='auto', kernel='linear')"
      ]
     },
     "execution_count": 43,
     "metadata": {},
     "output_type": "execute_result"
    }
   ],
   "source": [
    "#model = MultinomialNB()\n",
    "#model = LogisticRegression(max_iter=1000)\n",
    "model = svm.SVC(C=1.0, kernel='linear', degree=3, gamma='auto')\n",
    "model.fit(Train_X_Tfidf, y_train)"
   ]
  },
  {
   "cell_type": "code",
   "execution_count": 44,
   "id": "aba71b88",
   "metadata": {},
   "outputs": [
    {
     "name": "stdout",
     "output_type": "stream",
     "text": [
      "********************************Models With tf-idf SVM********************************\n",
      "0.6618257261410788\n",
      "********************************Confusion Matrix********************************\n",
      "[[ 99 113  26   4   6  19   0   0   0   2   2   0   0   0   0   2   0   0\n",
      "    0]\n",
      " [ 64 326  25  22  78   4   0   7   0   2  42   3   0   0   0   3   0   0\n",
      "    2]\n",
      " [ 16  68 410  10  10   3   0  11   0   1   2   0   0   0   0   0   0   0\n",
      "    1]\n",
      " [  9  57  10 174  91  14  27  21   7   8  26   4   0   0  43   5   0   0\n",
      "    1]\n",
      " [  0  13   3  23 529   6   0   5   1   1   3   1   0   0  30   0   0   0\n",
      "    0]\n",
      " [ 21   9   3  19  13  83   0   0   1   0   0   0   0   0   1   1   0   0\n",
      "    2]\n",
      " [  0   0   0   1   0   0 235   0   0   0   0   0   0   0   5   0   0   0\n",
      "    0]\n",
      " [  1  28  19  13   4   1   0  85   4   1   0   1   0   0   0   0   0   0\n",
      "    0]\n",
      " [  0   4   1   8   4   1   0  13  31   0   0   0   0   0   0   0   0   0\n",
      "    0]\n",
      " [  0   0   5  14   3   0   0   0   0  41   0   0   0   0   0   0   0   0\n",
      "    0]\n",
      " [  2  11   0   3   0   0   0   0   0   0 109   0   0   0   0   0   0   0\n",
      "    0]\n",
      " [  1   2   0   4   0   3   0   0   0   0   0  11   0   0   1   0   0   0\n",
      "    0]\n",
      " [  0   1   0   1   2   0   0   1   0   0   0   0   5   0   3   0   0   0\n",
      "    0]\n",
      " [  0   2   0   0   0   0   0   0   0   0   3   0   0   2   0   0   0   0\n",
      "    0]\n",
      " [  0   4   1  19  20   1   5   0   1   0   0   0   0   0 344   5   0   0\n",
      "    0]\n",
      " [  4   3   0   3   1   0   0   1   0   0   0   0   0   0   2  22   0   0\n",
      "    0]\n",
      " [  2   7   0   2   0   0   0   0   1   0   2   0   0   0   0   0   5   0\n",
      "    0]\n",
      " [  0   4   0   0   0   0   0   0   0   0   0   0   0   0   0   0   0   9\n",
      "    0]\n",
      " [  3   4   2   1   2   2   0   3   0   0   0   0   0   0   1   0   0   0\n",
      "   32]]\n",
      "********************************Precision score macro********************************\n",
      "0.726747311422416\n",
      "********************************Precision score micro********************************\n",
      "0.6618257261410788\n",
      "********************************Precision score weighted********************************\n",
      "0.6585398690264354\n",
      "********************************Precision score null********************************\n",
      "[0.44594595 0.49695122 0.81188119 0.54205607 0.69331586 0.60583942\n",
      " 0.88014981 0.57823129 0.67391304 0.73214286 0.57671958 0.55\n",
      " 1.         1.         0.8        0.57894737 1.         1.\n",
      " 0.84210526]\n",
      "********************************Classification report********************************\n",
      "              precision    recall  f1-score   support\n",
      "\n",
      "           0       0.45      0.36      0.40       273\n",
      "           1       0.50      0.56      0.53       578\n",
      "           2       0.81      0.77      0.79       532\n",
      "           3       0.54      0.35      0.43       497\n",
      "           4       0.69      0.86      0.77       615\n",
      "           5       0.61      0.54      0.57       153\n",
      "           6       0.88      0.98      0.93       241\n",
      "           7       0.58      0.54      0.56       157\n",
      "           8       0.67      0.50      0.57        62\n",
      "           9       0.73      0.65      0.69        63\n",
      "          10       0.58      0.87      0.69       125\n",
      "          11       0.55      0.50      0.52        22\n",
      "          12       1.00      0.38      0.56        13\n",
      "          13       1.00      0.29      0.44         7\n",
      "          14       0.80      0.86      0.83       400\n",
      "          15       0.58      0.61      0.59        36\n",
      "          16       1.00      0.26      0.42        19\n",
      "          17       1.00      0.69      0.82        13\n",
      "          18       0.84      0.64      0.73        50\n",
      "\n",
      "    accuracy                           0.66      3856\n",
      "   macro avg       0.73      0.59      0.62      3856\n",
      "weighted avg       0.66      0.66      0.65      3856\n",
      "\n"
     ]
    }
   ],
   "source": [
    "y_pred_class = model.predict(Test_X_Tfidf)\n",
    "print('********************************Models With tf-idf SVM********************************')\n",
    "print(metrics.accuracy_score(y_test, y_pred_class))\n",
    "print('********************************Confusion Matrix********************************')\n",
    "print(confusion_matrix(y_test, y_pred_class))\n",
    "print('********************************Precision score macro********************************')\n",
    "print(precision_score(y_test, y_pred_class, average='macro', zero_division=1))\n",
    "print('********************************Precision score micro********************************')\n",
    "print(precision_score(y_test, y_pred_class, average='micro', zero_division=1))\n",
    "print('********************************Precision score weighted********************************')\n",
    "print(precision_score(y_test, y_pred_class, average='weighted', zero_division=1))\n",
    "print('********************************Precision score null********************************')\n",
    "print(precision_score(y_test, y_pred_class, average=None, zero_division=1))\n",
    "print('********************************Classification report********************************')\n",
    "print(classification_report(y_test, y_pred_class, zero_division=1))"
   ]
  },
  {
   "cell_type": "code",
   "execution_count": 47,
   "id": "2805a895",
   "metadata": {},
   "outputs": [],
   "source": [
    "def predict_label(text):\n",
    "    test = vect.transform(text)\n",
    "    prediction = model.predict(test)\n",
    "    return prediction"
   ]
  }
 ],
 "metadata": {
  "kernelspec": {
   "display_name": "Python 3",
   "language": "python",
   "name": "python3"
  },
  "language_info": {
   "codemirror_mode": {
    "name": "ipython",
    "version": 3
   },
   "file_extension": ".py",
   "mimetype": "text/x-python",
   "name": "python",
   "nbconvert_exporter": "python",
   "pygments_lexer": "ipython3",
   "version": "3.8.8"
  }
 },
 "nbformat": 4,
 "nbformat_minor": 5
}
