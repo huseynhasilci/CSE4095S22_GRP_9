{
 "cells": [
  {
   "cell_type": "code",
   "execution_count": 20,
   "id": "e6d4d233",
   "metadata": {},
   "outputs": [],
   "source": [
    "import pandas as pd\n",
    "from sklearn.feature_extraction.text import CountVectorizer\n",
    "from sklearn.model_selection import train_test_split\n",
    "from sklearn.naive_bayes import MultinomialNB\n",
    "from sklearn import metrics\n",
    "from nltk.corpus import stopwords\n",
    "from sklearn.feature_extraction.text import TfidfTransformer\n",
    "from sklearn.metrics import confusion_matrix, classification_report, precision_score"
   ]
  },
  {
   "cell_type": "code",
   "execution_count": 2,
   "id": "e9add36a",
   "metadata": {},
   "outputs": [],
   "source": [
    "path_csv_file = \"C:/Users/husey/PycharmProjects/pythonProject12/IntToNLP_GRP_9/latest_hukums_with_classes_csv_file1.csv\""
   ]
  },
  {
   "cell_type": "code",
   "execution_count": 3,
   "id": "cef72b0b",
   "metadata": {},
   "outputs": [
    {
     "data": {
      "text/html": [
       "<div>\n",
       "<style scoped>\n",
       "    .dataframe tbody tr th:only-of-type {\n",
       "        vertical-align: middle;\n",
       "    }\n",
       "\n",
       "    .dataframe tbody tr th {\n",
       "        vertical-align: top;\n",
       "    }\n",
       "\n",
       "    .dataframe thead th {\n",
       "        text-align: right;\n",
       "    }\n",
       "</style>\n",
       "<table border=\"1\" class=\"dataframe\">\n",
       "  <thead>\n",
       "    <tr style=\"text-align: right;\">\n",
       "      <th></th>\n",
       "      <th>Unnamed: 0</th>\n",
       "      <th>Unnamed: 0.1</th>\n",
       "      <th>ictihat</th>\n",
       "      <th>Suç</th>\n",
       "      <th>YeniSuclar</th>\n",
       "    </tr>\n",
       "  </thead>\n",
       "  <tbody>\n",
       "    <tr>\n",
       "      <th>0</th>\n",
       "      <td>0</td>\n",
       "      <td>0</td>\n",
       "      <td>HÜKÜMLER : Mahkumiyet, beraat, hükmün açıkl...</td>\n",
       "      <td>hakaret</td>\n",
       "      <td>Şerefe karşı suçlar</td>\n",
       "    </tr>\n",
       "    <tr>\n",
       "      <th>1</th>\n",
       "      <td>1</td>\n",
       "      <td>1</td>\n",
       "      <td>HÜKÜMLER : Mahkumiyet, beraat, hükmün açıkl...</td>\n",
       "      <td>tehdit</td>\n",
       "      <td>Hürriyete karşı suçlar</td>\n",
       "    </tr>\n",
       "    <tr>\n",
       "      <th>2</th>\n",
       "      <td>2</td>\n",
       "      <td>2</td>\n",
       "      <td>HÜKÜMLER : Mahkumiyet, beraat, hükmün açıkl...</td>\n",
       "      <td>yaralama</td>\n",
       "      <td>Vücut dokunulmazlığına karşı suçlar</td>\n",
       "    </tr>\n",
       "    <tr>\n",
       "      <th>3</th>\n",
       "      <td>3</td>\n",
       "      <td>3</td>\n",
       "      <td>HÜKÜMLER : Beraat    Yerel Mahkemece bozma ...</td>\n",
       "      <td>tehdit</td>\n",
       "      <td>Hürriyete karşı suçlar</td>\n",
       "    </tr>\n",
       "    <tr>\n",
       "      <th>4</th>\n",
       "      <td>4</td>\n",
       "      <td>4</td>\n",
       "      <td>HÜKÜMLER : Beraat    Yerel Mahkemece bozma ...</td>\n",
       "      <td>hakaret</td>\n",
       "      <td>Şerefe karşı suçlar</td>\n",
       "    </tr>\n",
       "  </tbody>\n",
       "</table>\n",
       "</div>"
      ],
      "text/plain": [
       "   Unnamed: 0  Unnamed: 0.1  \\\n",
       "0           0             0   \n",
       "1           1             1   \n",
       "2           2             2   \n",
       "3           3             3   \n",
       "4           4             4   \n",
       "\n",
       "                                             ictihat        Suç  \\\n",
       "0     HÜKÜMLER : Mahkumiyet, beraat, hükmün açıkl...    hakaret   \n",
       "1     HÜKÜMLER : Mahkumiyet, beraat, hükmün açıkl...     tehdit   \n",
       "2     HÜKÜMLER : Mahkumiyet, beraat, hükmün açıkl...   yaralama   \n",
       "3     HÜKÜMLER : Beraat    Yerel Mahkemece bozma ...     tehdit   \n",
       "4     HÜKÜMLER : Beraat    Yerel Mahkemece bozma ...    hakaret   \n",
       "\n",
       "                            YeniSuclar  \n",
       "0                  Şerefe karşı suçlar  \n",
       "1               Hürriyete karşı suçlar  \n",
       "2  Vücut dokunulmazlığına karşı suçlar  \n",
       "3               Hürriyete karşı suçlar  \n",
       "4                  Şerefe karşı suçlar  "
      ]
     },
     "execution_count": 3,
     "metadata": {},
     "output_type": "execute_result"
    }
   ],
   "source": [
    "df = pd.read_csv(path_csv_file)\n",
    "df.head()"
   ]
  },
  {
   "cell_type": "code",
   "execution_count": 4,
   "id": "a5ffd4b2",
   "metadata": {},
   "outputs": [
    {
     "data": {
      "text/html": [
       "<div>\n",
       "<style scoped>\n",
       "    .dataframe tbody tr th:only-of-type {\n",
       "        vertical-align: middle;\n",
       "    }\n",
       "\n",
       "    .dataframe tbody tr th {\n",
       "        vertical-align: top;\n",
       "    }\n",
       "\n",
       "    .dataframe thead th {\n",
       "        text-align: right;\n",
       "    }\n",
       "</style>\n",
       "<table border=\"1\" class=\"dataframe\">\n",
       "  <thead>\n",
       "    <tr style=\"text-align: right;\">\n",
       "      <th></th>\n",
       "      <th>Unnamed: 0</th>\n",
       "      <th>Unnamed: 0.1</th>\n",
       "      <th>ictihat</th>\n",
       "      <th>Suç</th>\n",
       "      <th>YeniSuclar</th>\n",
       "      <th>NUM_LABEL</th>\n",
       "    </tr>\n",
       "  </thead>\n",
       "  <tbody>\n",
       "    <tr>\n",
       "      <th>0</th>\n",
       "      <td>0</td>\n",
       "      <td>0</td>\n",
       "      <td>HÜKÜMLER : Mahkumiyet, beraat, hükmün açıkl...</td>\n",
       "      <td>hakaret</td>\n",
       "      <td>Şerefe karşı suçlar</td>\n",
       "      <td>0</td>\n",
       "    </tr>\n",
       "    <tr>\n",
       "      <th>1</th>\n",
       "      <td>1</td>\n",
       "      <td>1</td>\n",
       "      <td>HÜKÜMLER : Mahkumiyet, beraat, hükmün açıkl...</td>\n",
       "      <td>tehdit</td>\n",
       "      <td>Hürriyete karşı suçlar</td>\n",
       "      <td>1</td>\n",
       "    </tr>\n",
       "    <tr>\n",
       "      <th>2</th>\n",
       "      <td>2</td>\n",
       "      <td>2</td>\n",
       "      <td>HÜKÜMLER : Mahkumiyet, beraat, hükmün açıkl...</td>\n",
       "      <td>yaralama</td>\n",
       "      <td>Vücut dokunulmazlığına karşı suçlar</td>\n",
       "      <td>2</td>\n",
       "    </tr>\n",
       "    <tr>\n",
       "      <th>3</th>\n",
       "      <td>3</td>\n",
       "      <td>3</td>\n",
       "      <td>HÜKÜMLER : Beraat    Yerel Mahkemece bozma ...</td>\n",
       "      <td>tehdit</td>\n",
       "      <td>Hürriyete karşı suçlar</td>\n",
       "      <td>1</td>\n",
       "    </tr>\n",
       "    <tr>\n",
       "      <th>4</th>\n",
       "      <td>4</td>\n",
       "      <td>4</td>\n",
       "      <td>HÜKÜMLER : Beraat    Yerel Mahkemece bozma ...</td>\n",
       "      <td>hakaret</td>\n",
       "      <td>Şerefe karşı suçlar</td>\n",
       "      <td>0</td>\n",
       "    </tr>\n",
       "  </tbody>\n",
       "</table>\n",
       "</div>"
      ],
      "text/plain": [
       "   Unnamed: 0  Unnamed: 0.1  \\\n",
       "0           0             0   \n",
       "1           1             1   \n",
       "2           2             2   \n",
       "3           3             3   \n",
       "4           4             4   \n",
       "\n",
       "                                             ictihat        Suç  \\\n",
       "0     HÜKÜMLER : Mahkumiyet, beraat, hükmün açıkl...    hakaret   \n",
       "1     HÜKÜMLER : Mahkumiyet, beraat, hükmün açıkl...     tehdit   \n",
       "2     HÜKÜMLER : Mahkumiyet, beraat, hükmün açıkl...   yaralama   \n",
       "3     HÜKÜMLER : Beraat    Yerel Mahkemece bozma ...     tehdit   \n",
       "4     HÜKÜMLER : Beraat    Yerel Mahkemece bozma ...    hakaret   \n",
       "\n",
       "                            YeniSuclar  NUM_LABEL  \n",
       "0                  Şerefe karşı suçlar          0  \n",
       "1               Hürriyete karşı suçlar          1  \n",
       "2  Vücut dokunulmazlığına karşı suçlar          2  \n",
       "3               Hürriyete karşı suçlar          1  \n",
       "4                  Şerefe karşı suçlar          0  "
      ]
     },
     "execution_count": 4,
     "metadata": {},
     "output_type": "execute_result"
    }
   ],
   "source": [
    "label_map = {}\n",
    "count = 0\n",
    "for label in df.YeniSuclar.unique():\n",
    "    label_map[label] = count\n",
    "    count += 1\n",
    "df['NUM_LABEL'] = df.YeniSuclar.map(label_map)\n",
    "#print(label_map)\n",
    "df.head()"
   ]
  },
  {
   "cell_type": "code",
   "execution_count": 6,
   "id": "a57ebc79",
   "metadata": {},
   "outputs": [
    {
     "data": {
      "text/plain": [
       "Mal varlığına karşı suçlar                                    3137\n",
       "Hürriyete karşı suçlar                                        2883\n",
       "Vücut dokunulmazlığına karşı suçlar                           2684\n",
       "others                                                        2364\n",
       "Kamu güvenine karşı suçlar                                    1993\n",
       "Şerefe karşı suçlar                                           1317\n",
       "Kamunun sağlığına karşı suçlar                                1216\n",
       "Kamu idaresinin güvenilirliğine ve işleyişine karşı suçlar     837\n",
       "Anayasal düzene ve bu düzenin işleyişine karşı suçlar          779\n",
       "Cinsel dokunulmazlığa karşı suçlar                             607\n",
       "Adliyeye karşı suçlar                                          401\n",
       "Hayata karşı suçlar                                            254\n",
       "Genel tehlike yaratan suçlar                                   249\n",
       "Çevreye karşı suçlar                                           171\n",
       "Ekonomi, sanayi ve ticarete ilişkin suçlar                      98\n",
       "Bilişim alanında suçlar                                         91\n",
       "Genel ahlaka karşı suçlar                                       82\n",
       "Göçmen kaçakçılığı ve insan ticareti                            59\n",
       "Aile düzenine karşı suçlar                                      58\n",
       "Name: YeniSuclar, dtype: int64"
      ]
     },
     "execution_count": 6,
     "metadata": {},
     "output_type": "execute_result"
    }
   ],
   "source": [
    "df.YeniSuclar.value_counts()"
   ]
  },
  {
   "cell_type": "code",
   "execution_count": 8,
   "id": "4f5bd4ab",
   "metadata": {},
   "outputs": [],
   "source": [
    "texts = df.ictihat\n",
    "label_nums = df.NUM_LABEL"
   ]
  },
  {
   "cell_type": "code",
   "execution_count": 9,
   "id": "baeb39f2",
   "metadata": {},
   "outputs": [],
   "source": [
    "X_train, X_test, y_train, y_test = train_test_split(texts, label_nums, test_size=0.2)"
   ]
  },
  {
   "cell_type": "code",
   "execution_count": 10,
   "id": "c61b848a",
   "metadata": {},
   "outputs": [
    {
     "name": "stdout",
     "output_type": "stream",
     "text": [
      "(15424,)\n",
      "(3856,)\n",
      "(15424,)\n",
      "(3856,)\n"
     ]
    }
   ],
   "source": [
    "print(X_train.shape)\n",
    "print(X_test.shape)\n",
    "print(y_train.shape)\n",
    "print(y_test.shape)"
   ]
  },
  {
   "cell_type": "code",
   "execution_count": 11,
   "id": "c75c9317",
   "metadata": {
    "scrolled": false
   },
   "outputs": [
    {
     "data": {
      "text/plain": [
       "17197       HÜKÜM : Mahkumiyet    Mahalli mahkemece ver...\n",
       "13298       Hüküm : Beraat    Mahalli mahkemece verilen...\n",
       "194         HÜKÜM : Mahkumiyet    Dosya incelenerek ger...\n",
       "3122      Mahkeme: KONYA Bölge Adliye Mahkemesi 3. Ceza...\n",
       "16529     Mahkeme : KOCAELİ 3. Ağır Ceza Mahkemesi   Hü...\n",
       "                               ...                        \n",
       "1668        HÜKÜM : Mahkumiyet, temyiz isteğinin reddi ...\n",
       "897         HÜKÜM : -Kilis Ağır Ceza Mahkemesinin 20.02...\n",
       "11159       Hüküm : TCK’nın 73/4. maddesi gereğince kam...\n",
       "1514        HÜKÜMLER : Mahkumiyet       Yerel Mahkemece...\n",
       "3963        HÜKÜMLER : Mahkumiyet    Mahalli mahkemece ...\n",
       "Name: ictihat, Length: 15424, dtype: object"
      ]
     },
     "execution_count": 11,
     "metadata": {},
     "output_type": "execute_result"
    }
   ],
   "source": [
    "X_train"
   ]
  },
  {
   "cell_type": "code",
   "execution_count": 12,
   "id": "ec70ca10",
   "metadata": {},
   "outputs": [],
   "source": [
    "def clean_text(text):\n",
    "    alphabetic_only = [word for word in text.split() if word.isalpha()]\n",
    "    lower_case_only = [word.lower() for word in alphabetic_only]\n",
    "    stopwords_tr = set(stopwords.words(\"turkish\"))\n",
    "    return [word for word in lower_case_only if word not in stopwords_tr]"
   ]
  },
  {
   "cell_type": "code",
   "execution_count": 13,
   "id": "27ae82ce",
   "metadata": {},
   "outputs": [
    {
     "data": {
      "text/plain": [
       "<15424x23428 sparse matrix of type '<class 'numpy.int64'>'\n",
       "\twith 1542691 stored elements in Compressed Sparse Row format>"
      ]
     },
     "execution_count": 13,
     "metadata": {},
     "output_type": "execute_result"
    }
   ],
   "source": [
    "vect = CountVectorizer(analyzer='word', tokenizer=clean_text)\n",
    "X_train_dtm = vect.fit_transform(X_train.astype(\"U\"))\n",
    "X_train_dtm"
   ]
  },
  {
   "cell_type": "code",
   "execution_count": 14,
   "id": "ffdfc56e",
   "metadata": {},
   "outputs": [
    {
     "data": {
      "text/plain": [
       "<3856x23428 sparse matrix of type '<class 'numpy.int64'>'\n",
       "\twith 385575 stored elements in Compressed Sparse Row format>"
      ]
     },
     "execution_count": 14,
     "metadata": {},
     "output_type": "execute_result"
    }
   ],
   "source": [
    "X_test_dtm = vect.transform(X_test.astype(\"U\"))\n",
    "X_test_dtm"
   ]
  },
  {
   "cell_type": "code",
   "execution_count": 15,
   "id": "9753def7",
   "metadata": {},
   "outputs": [
    {
     "data": {
      "text/plain": [
       "'\\nvect2 = TfidfTransformer()\\nX_train_tfidf = vect2.fit_transform(X_train_dtm.astype(\"U\"))\\nX_train_tfidf\\n'"
      ]
     },
     "execution_count": 15,
     "metadata": {},
     "output_type": "execute_result"
    }
   ],
   "source": [
    "\"\"\"\n",
    "vect2 = TfidfTransformer()\n",
    "X_train_tfidf = vect2.fit_transform(X_train_dtm.astype(\"U\"))\n",
    "X_train_tfidf\n",
    "\"\"\""
   ]
  },
  {
   "cell_type": "code",
   "execution_count": 16,
   "id": "fe4360ad",
   "metadata": {},
   "outputs": [
    {
     "data": {
      "text/plain": [
       "'\\nX_test_tfidf = vect2.transform(X_test_dtm.astype(\"U\"))\\nX_test_tfidf\\n'"
      ]
     },
     "execution_count": 16,
     "metadata": {},
     "output_type": "execute_result"
    }
   ],
   "source": [
    "\"\"\"\n",
    "X_test_tfidf = vect2.transform(X_test_dtm.astype(\"U\"))\n",
    "X_test_tfidf\n",
    "\"\"\""
   ]
  },
  {
   "cell_type": "code",
   "execution_count": 22,
   "id": "d3ffff98",
   "metadata": {},
   "outputs": [
    {
     "data": {
      "text/plain": [
       "MultinomialNB()"
      ]
     },
     "execution_count": 22,
     "metadata": {},
     "output_type": "execute_result"
    }
   ],
   "source": [
    "model = MultinomialNB()\n",
    "model.fit(X_train_dtm, y_train)"
   ]
  },
  {
   "cell_type": "code",
   "execution_count": 24,
   "id": "aba71b88",
   "metadata": {},
   "outputs": [
    {
     "name": "stdout",
     "output_type": "stream",
     "text": [
      "********************************MultinomialNB********************************\n",
      "0.5892116182572614\n",
      "********************************Confusion Matrix********************************\n",
      "[[140  72  22  12   8   2   2   2   2   1   4   0   0   0   0   0   0   0\n",
      "    0]\n",
      " [133 195  19  44  79   3   1   6  15   3  46   2   0   0   1   0   0   0\n",
      "    0]\n",
      " [ 32  46 415  22  10   2   0   0   3   6   3   0   0   0   1   0   0   0\n",
      "   28]\n",
      " [ 22  34  16 140  97  15  21   5  21  28  35   0   0   0  41   0   0   0\n",
      "    2]\n",
      " [ 11  14   6  50 513   5   2   0   3   2   0   0   0   0   9   0   0   0\n",
      "    0]\n",
      " [ 36   8   5  24  30  48   0   1   0   0   0   0   0   0   4   0   0   0\n",
      "    0]\n",
      " [  0   0   0   6   2   0 222   0   0   0   0   0   0   0  38   0   0   0\n",
      "    0]\n",
      " [  6  11  14  23   7   2   0  59  22   5   0   0   0   0   5   0   0   0\n",
      "    0]\n",
      " [  1   0   5   9  15   0   0   4  50   0   0   0   0   0   3   0   0   0\n",
      "    1]\n",
      " [  0   0   1  18   0   0   0   0   0  43   0   0   0   0   0   0   0   0\n",
      "    0]\n",
      " [  1   2   1   2   1   0   1   0   0   0 102   0   0   0   0   0   0   0\n",
      "    0]\n",
      " [  0   0   0   8   0   3   0   0   0   0   0   0   0   0   0   0   0   0\n",
      "    0]\n",
      " [  0   0   0   2   3   0   0   1   2   0   0   0   0   0   0   0   0   0\n",
      "    0]\n",
      " [  0   0   0   9   1   0   0   0   1   0   3   0   0   0   0   0   0   0\n",
      "    0]\n",
      " [  7   3   5  34  31   2   1   0   0   0   1   0   0   0 297   0   0   0\n",
      "    1]\n",
      " [ 16   2   0   6   0   2   0   0   0   0   0   0   0   0   4   7   0   0\n",
      "    0]\n",
      " [ 16   8   0   0   0   0   0   0   0   0   1   0   0   0   0   0   0   0\n",
      "    0]\n",
      " [  6   2   0   0   0   0   0   0   0   0   0   0   0   0   0   0   0   0\n",
      "    0]\n",
      " [  3   3   3   5   1   0   0   0   2   0   0   0   0   0   1   0   0   0\n",
      "   41]]\n",
      "********************************Precision score macro********************************\n",
      "0.6601166984173481\n",
      "********************************Precision score micro********************************\n",
      "0.5892116182572614\n",
      "********************************Precision score weighted********************************\n",
      "0.6079927791217832\n",
      "********************************Precision score null********************************\n",
      "[0.3255814  0.4875     0.81054688 0.33816425 0.64285714 0.57142857\n",
      " 0.888      0.75641026 0.41322314 0.48863636 0.52307692 0.\n",
      " 1.         1.         0.73514851 1.         1.         1.\n",
      " 0.56164384]\n",
      "********************************Classification report********************************\n",
      "              precision    recall  f1-score   support\n",
      "\n",
      "           0       0.33      0.52      0.40       267\n",
      "           1       0.49      0.36      0.41       547\n",
      "           2       0.81      0.73      0.77       568\n",
      "           3       0.34      0.29      0.31       477\n",
      "           4       0.64      0.83      0.73       615\n",
      "           5       0.57      0.31      0.40       156\n",
      "           6       0.89      0.83      0.86       268\n",
      "           7       0.76      0.38      0.51       154\n",
      "           8       0.41      0.57      0.48        88\n",
      "           9       0.49      0.69      0.57        62\n",
      "          10       0.52      0.93      0.67       110\n",
      "          11       0.00      0.00      0.00        11\n",
      "          12       1.00      0.00      0.00         8\n",
      "          13       1.00      0.00      0.00        14\n",
      "          14       0.74      0.78      0.76       382\n",
      "          15       1.00      0.19      0.32        37\n",
      "          16       1.00      0.00      0.00        25\n",
      "          17       1.00      0.00      0.00         8\n",
      "          18       0.56      0.69      0.62        59\n",
      "\n",
      "    accuracy                           0.59      3856\n",
      "   macro avg       0.66      0.43      0.41      3856\n",
      "weighted avg       0.61      0.59      0.58      3856\n",
      "\n"
     ]
    }
   ],
   "source": [
    "y_pred_class = model.predict(X_test_dtm)\n",
    "print('********************************MultinomialNB********************************')\n",
    "print(metrics.accuracy_score(y_test, y_pred_class))\n",
    "print('********************************Confusion Matrix********************************')\n",
    "print(confusion_matrix(y_test, y_pred_class))\n",
    "print('********************************Precision score macro********************************')\n",
    "print(precision_score(y_test, y_pred_class, average='macro', zero_division=1))\n",
    "print('********************************Precision score micro********************************')\n",
    "print(precision_score(y_test, y_pred_class, average='micro', zero_division=1))\n",
    "print('********************************Precision score weighted********************************')\n",
    "print(precision_score(y_test, y_pred_class, average='weighted', zero_division=1))\n",
    "print('********************************Precision score null********************************')\n",
    "print(precision_score(y_test, y_pred_class, average=None, zero_division=1))\n",
    "print('********************************Classification report********************************')\n",
    "print(classification_report(y_test, y_pred_class, zero_division=1))"
   ]
  },
  {
   "cell_type": "code",
   "execution_count": 19,
   "id": "2805a895",
   "metadata": {},
   "outputs": [],
   "source": [
    "def predict_label(text):\n",
    "    test = vect.transform(text)\n",
    "    prediction = model.predict(test)\n",
    "    return prediction"
   ]
  },
  {
   "cell_type": "code",
   "execution_count": null,
   "id": "19979da2",
   "metadata": {},
   "outputs": [],
   "source": []
  }
 ],
 "metadata": {
  "kernelspec": {
   "display_name": "Python 3",
   "language": "python",
   "name": "python3"
  },
  "language_info": {
   "codemirror_mode": {
    "name": "ipython",
    "version": 3
   },
   "file_extension": ".py",
   "mimetype": "text/x-python",
   "name": "python",
   "nbconvert_exporter": "python",
   "pygments_lexer": "ipython3",
   "version": "3.8.8"
  }
 },
 "nbformat": 4,
 "nbformat_minor": 5
}
