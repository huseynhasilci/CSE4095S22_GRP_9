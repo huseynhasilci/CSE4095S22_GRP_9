{
 "cells": [
  {
   "cell_type": "code",
   "execution_count": 32,
   "id": "e6d4d233",
   "metadata": {},
   "outputs": [],
   "source": [
    "import pandas as pd\n",
    "from sklearn.feature_extraction.text import CountVectorizer\n",
    "from sklearn.model_selection import train_test_split\n",
    "from sklearn.naive_bayes import MultinomialNB\n",
    "from sklearn import metrics\n",
    "from nltk.corpus import stopwords\n",
    "from sklearn.feature_extraction.text import TfidfVectorizer\n"
   ]
  },
  {
   "cell_type": "code",
   "execution_count": 33,
   "id": "e9add36a",
   "metadata": {},
   "outputs": [],
   "source": [
    "path_csv_file = \"C:/Users/murat/Desktop/Nlp_delivery2/data.csv\""
   ]
  },
  {
   "cell_type": "code",
   "execution_count": 34,
   "id": "cef72b0b",
   "metadata": {},
   "outputs": [
    {
     "data": {
      "text/html": [
       "<div>\n",
       "<style scoped>\n",
       "    .dataframe tbody tr th:only-of-type {\n",
       "        vertical-align: middle;\n",
       "    }\n",
       "\n",
       "    .dataframe tbody tr th {\n",
       "        vertical-align: top;\n",
       "    }\n",
       "\n",
       "    .dataframe thead th {\n",
       "        text-align: right;\n",
       "    }\n",
       "</style>\n",
       "<table border=\"1\" class=\"dataframe\">\n",
       "  <thead>\n",
       "    <tr style=\"text-align: right;\">\n",
       "      <th></th>\n",
       "      <th>File Name</th>\n",
       "      <th>Label</th>\n",
       "      <th>Text</th>\n",
       "    </tr>\n",
       "  </thead>\n",
       "  <tbody>\n",
       "    <tr>\n",
       "      <th>0</th>\n",
       "      <td>1.json</td>\n",
       "      <td>undefined</td>\n",
       "      <td>Kasten basit yaralama suçundan sanık ...'nin,...</td>\n",
       "    </tr>\n",
       "    <tr>\n",
       "      <th>1</th>\n",
       "      <td>10.json</td>\n",
       "      <td>undefined</td>\n",
       "      <td>Taraflar arasında görülen ve yukarıda açı...</td>\n",
       "    </tr>\n",
       "    <tr>\n",
       "      <th>2</th>\n",
       "      <td>100.json</td>\n",
       "      <td>undefined</td>\n",
       "      <td>(5237 S. K. m. 53) (5271 S. K. m. 288, 289, 2...</td>\n",
       "    </tr>\n",
       "    <tr>\n",
       "      <th>3</th>\n",
       "      <td>1000.json</td>\n",
       "      <td>undefined</td>\n",
       "      <td>BÖLGE ADLİYE MAHKEMESİ:... 5. Hukuk Dairesi  ...</td>\n",
       "    </tr>\n",
       "    <tr>\n",
       "      <th>4</th>\n",
       "      <td>10000.json</td>\n",
       "      <td>undefined</td>\n",
       "      <td>Taraflar arasında görülen davada;  Davacı...</td>\n",
       "    </tr>\n",
       "  </tbody>\n",
       "</table>\n",
       "</div>"
      ],
      "text/plain": [
       "    File Name      Label                                               Text\n",
       "0      1.json  undefined   Kasten basit yaralama suçundan sanık ...'nin,...\n",
       "1     10.json  undefined       Taraflar arasında görülen ve yukarıda açı...\n",
       "2    100.json  undefined   (5237 S. K. m. 53) (5271 S. K. m. 288, 289, 2...\n",
       "3   1000.json  undefined   BÖLGE ADLİYE MAHKEMESİ:... 5. Hukuk Dairesi  ...\n",
       "4  10000.json  undefined       Taraflar arasında görülen davada;  Davacı..."
      ]
     },
     "execution_count": 34,
     "metadata": {},
     "output_type": "execute_result"
    }
   ],
   "source": [
    "df = pd.read_csv(path_csv_file)\n",
    "df.head()"
   ]
  },
  {
   "cell_type": "code",
   "execution_count": 35,
   "id": "a5ffd4b2",
   "metadata": {},
   "outputs": [
    {
     "data": {
      "text/html": [
       "<div>\n",
       "<style scoped>\n",
       "    .dataframe tbody tr th:only-of-type {\n",
       "        vertical-align: middle;\n",
       "    }\n",
       "\n",
       "    .dataframe tbody tr th {\n",
       "        vertical-align: top;\n",
       "    }\n",
       "\n",
       "    .dataframe thead th {\n",
       "        text-align: right;\n",
       "    }\n",
       "</style>\n",
       "<table border=\"1\" class=\"dataframe\">\n",
       "  <thead>\n",
       "    <tr style=\"text-align: right;\">\n",
       "      <th></th>\n",
       "      <th>File Name</th>\n",
       "      <th>Label</th>\n",
       "      <th>Text</th>\n",
       "      <th>NUM_LABEL</th>\n",
       "    </tr>\n",
       "  </thead>\n",
       "  <tbody>\n",
       "    <tr>\n",
       "      <th>0</th>\n",
       "      <td>1.json</td>\n",
       "      <td>undefined</td>\n",
       "      <td>Kasten basit yaralama suçundan sanık ...'nin,...</td>\n",
       "      <td>0</td>\n",
       "    </tr>\n",
       "    <tr>\n",
       "      <th>1</th>\n",
       "      <td>10.json</td>\n",
       "      <td>undefined</td>\n",
       "      <td>Taraflar arasında görülen ve yukarıda açı...</td>\n",
       "      <td>0</td>\n",
       "    </tr>\n",
       "    <tr>\n",
       "      <th>2</th>\n",
       "      <td>100.json</td>\n",
       "      <td>undefined</td>\n",
       "      <td>(5237 S. K. m. 53) (5271 S. K. m. 288, 289, 2...</td>\n",
       "      <td>0</td>\n",
       "    </tr>\n",
       "    <tr>\n",
       "      <th>3</th>\n",
       "      <td>1000.json</td>\n",
       "      <td>undefined</td>\n",
       "      <td>BÖLGE ADLİYE MAHKEMESİ:... 5. Hukuk Dairesi  ...</td>\n",
       "      <td>0</td>\n",
       "    </tr>\n",
       "    <tr>\n",
       "      <th>4</th>\n",
       "      <td>10000.json</td>\n",
       "      <td>undefined</td>\n",
       "      <td>Taraflar arasında görülen davada;  Davacı...</td>\n",
       "      <td>0</td>\n",
       "    </tr>\n",
       "  </tbody>\n",
       "</table>\n",
       "</div>"
      ],
      "text/plain": [
       "    File Name      Label                                               Text  \\\n",
       "0      1.json  undefined   Kasten basit yaralama suçundan sanık ...'nin,...   \n",
       "1     10.json  undefined       Taraflar arasında görülen ve yukarıda açı...   \n",
       "2    100.json  undefined   (5237 S. K. m. 53) (5271 S. K. m. 288, 289, 2...   \n",
       "3   1000.json  undefined   BÖLGE ADLİYE MAHKEMESİ:... 5. Hukuk Dairesi  ...   \n",
       "4  10000.json  undefined       Taraflar arasında görülen davada;  Davacı...   \n",
       "\n",
       "   NUM_LABEL  \n",
       "0          0  \n",
       "1          0  \n",
       "2          0  \n",
       "3          0  \n",
       "4          0  "
      ]
     },
     "execution_count": 35,
     "metadata": {},
     "output_type": "execute_result"
    }
   ],
   "source": [
    "label_map = {}\n",
    "count = 0\n",
    "for label in df.Label.unique():\n",
    "    label_map[label] = count\n",
    "    count += 1\n",
    "df['NUM_LABEL'] = df.Label.map(label_map)\n",
    "#print(label_map)\n",
    "df.head()"
   ]
  },
  {
   "cell_type": "code",
   "execution_count": 36,
   "id": "a57ebc79",
   "metadata": {},
   "outputs": [
    {
     "data": {
      "text/plain": [
       "undefined                                                                                                                                                                                 12951\n",
       "kasten yaralama                                                                                                                                                                            1485\n",
       "uyuşturucu madde ticareti yapma                                                                                                                                                             693\n",
       "hırsızlık                                                                                                                                                                                   682\n",
       "tehdit                                                                                                                                                                                      612\n",
       "                                                                                                                                                                                          ...  \n",
       "birden fazla kişiyle birlikte tehdit, mala zarar verme                                                                                                                                        1\n",
       "silahla tehdit, tehdit, kasten yaralama                                                                                                                                                       1\n",
       "5015 sayılı kanuna muhalefet, suç işlemek amacıyla örgüt kurma, kurulan örgüte üye olma, örgüte yardım etme, mühür bozma, görevi kötüye kullanma, soruşturmanın gizliliğini ihlal etme        1\n",
       "görevli memura mukavemet, yaralama                                                                                                                                                            1\n",
       "suç işlemek amacıyla örgüt kurmak, suç işlemek amacıyla kurulan örgüte üye olmak, nitelikli dolandırıcılık, özel belgede sahtecilik                                                           1\n",
       "Name: Label, Length: 1759, dtype: int64"
      ]
     },
     "execution_count": 36,
     "metadata": {},
     "output_type": "execute_result"
    }
   ],
   "source": [
    "df.Label.value_counts()"
   ]
  },
  {
   "cell_type": "code",
   "execution_count": 37,
   "id": "4f5bd4ab",
   "metadata": {},
   "outputs": [],
   "source": [
    "texts = df.Text\n",
    "label_nums = df.NUM_LABEL"
   ]
  },
  {
   "cell_type": "code",
   "execution_count": 38,
   "id": "baeb39f2",
   "metadata": {},
   "outputs": [],
   "source": [
    "X_train, X_test, y_train, y_test = train_test_split(texts, label_nums, test_size=0.2)"
   ]
  },
  {
   "cell_type": "code",
   "execution_count": 39,
   "id": "c61b848a",
   "metadata": {},
   "outputs": [
    {
     "name": "stdout",
     "output_type": "stream",
     "text": [
      "(22280,)\n",
      "(5571,)\n",
      "(22280,)\n",
      "(5571,)\n"
     ]
    }
   ],
   "source": [
    "print(X_train.shape)\n",
    "print(X_test.shape)\n",
    "print(y_train.shape)\n",
    "print(y_test.shape)"
   ]
  },
  {
   "cell_type": "code",
   "execution_count": 40,
   "id": "c75c9317",
   "metadata": {
    "scrolled": false
   },
   "outputs": [
    {
     "data": {
      "text/plain": [
       "19814            Yukarıda tarih ve numarası yazılı Bölg...\n",
       "17495            Yukarıda tarih ve numarası yazılı mahk...\n",
       "3127      (5271 S. K. m. 142) (YİBK 24.05.2019 T. 2017/...\n",
       "9053      (5271 S. K. m. 48)  Dava ve Karar: 1- Sanıkla...\n",
       "12708        Taraflar arasındaki alacak davasının mahke...\n",
       "                               ...                        \n",
       "9541          Taraflar arasında görülen dava sonucunda ...\n",
       "20743              Yukarıda tarih ve numarası yazılı Bö...\n",
       "10985       HÜKÜM : Mahkumiyet      Mahalli mahkemece v...\n",
       "17994     (5237 S. K. m. 53) (ANY. MAH. 08.10.2015 T. 2...\n",
       "24392       HÜKÜM : Mahkumiyet    Dosya incelenerek ger...\n",
       "Name: Text, Length: 22280, dtype: object"
      ]
     },
     "execution_count": 40,
     "metadata": {},
     "output_type": "execute_result"
    }
   ],
   "source": [
    "X_train"
   ]
  },
  {
   "cell_type": "code",
   "execution_count": 41,
   "id": "ec70ca10",
   "metadata": {},
   "outputs": [],
   "source": [
    "def clean_text(text):\n",
    "    alphabetic_only = [word for word in text.split() if word.isalpha()]\n",
    "    lower_case_only = [word.lower() for word in alphabetic_only]\n",
    "    stopwords_tr = set(stopwords.words(\"turkish\"))\n",
    "    return [word for word in lower_case_only if word not in stopwords_tr]"
   ]
  },
  {
   "cell_type": "code",
   "execution_count": 42,
   "id": "27ae82ce",
   "metadata": {},
   "outputs": [
    {
     "data": {
      "text/plain": [
       "'\\nvect = CountVectorizer(analyzer=\\'word\\', tokenizer=clean_text)\\nX_train_dtm = vect.fit_transform(X_train.astype(\"U\"))\\nX_train_dtm\\n'"
      ]
     },
     "execution_count": 42,
     "metadata": {},
     "output_type": "execute_result"
    }
   ],
   "source": [
    "\"\"\"\n",
    "vect = CountVectorizer(analyzer='word', tokenizer=clean_text)\n",
    "X_train_dtm = vect.fit_transform(X_train.astype(\"U\"))\n",
    "X_train_dtm\n",
    "\"\"\""
   ]
  },
  {
   "cell_type": "code",
   "execution_count": 43,
   "id": "ffdfc56e",
   "metadata": {},
   "outputs": [
    {
     "data": {
      "text/plain": [
       "'\\nX_test_dtm = vect.transform(X_test.astype(\"U\"))\\nX_test_dtm\\n'"
      ]
     },
     "execution_count": 43,
     "metadata": {},
     "output_type": "execute_result"
    }
   ],
   "source": [
    "\"\"\"\n",
    "X_test_dtm = vect.transform(X_test.astype(\"U\"))\n",
    "X_test_dtm\n",
    "\"\"\""
   ]
  },
  {
   "cell_type": "code",
   "execution_count": 44,
   "id": "9753def7",
   "metadata": {},
   "outputs": [],
   "source": [
    "vect2 = TfidfVectorizer()\n",
    "vect2.fit(texts.astype(\"U\"))\n",
    "\n",
    "Train_X_Tfidf = vect2.transform(X_train.astype(\"U\"))\n",
    "Test_X_Tfidf = vect2.transform(X_test.astype(\"U\"))"
   ]
  },
  {
   "cell_type": "code",
   "execution_count": 45,
   "id": "d3ffff98",
   "metadata": {},
   "outputs": [
    {
     "data": {
      "text/plain": [
       "MultinomialNB()"
      ]
     },
     "execution_count": 45,
     "metadata": {},
     "output_type": "execute_result"
    }
   ],
   "source": [
    "model = MultinomialNB()\n",
    "#model = LogisticRegression(max_iter=1000)\n",
    "#model = svm.SVC(C=1.0, kernel='linear', degree=3, gamma='auto')\n",
    "model.fit(Train_X_Tfidf, y_train)"
   ]
  },
  {
   "cell_type": "code",
   "execution_count": 46,
   "id": "aba71b88",
   "metadata": {},
   "outputs": [
    {
     "data": {
      "text/plain": [
       "0.48662717644947046"
      ]
     },
     "execution_count": 46,
     "metadata": {},
     "output_type": "execute_result"
    }
   ],
   "source": [
    "y_pred_class = model.predict(Test_X_Tfidf)\n",
    "metrics.accuracy_score(y_pred_class, y_test)"
   ]
  },
  {
   "cell_type": "code",
   "execution_count": 47,
   "id": "2805a895",
   "metadata": {},
   "outputs": [],
   "source": [
    "def predict_label(text):\n",
    "    test = vect.transform(text)\n",
    "    prediction = model.predict(test)\n",
    "    return prediction"
   ]
  }
 ],
 "metadata": {
  "kernelspec": {
   "display_name": "Python 3 (ipykernel)",
   "language": "python",
   "name": "python3"
  },
  "language_info": {
   "codemirror_mode": {
    "name": "ipython",
    "version": 3
   },
   "file_extension": ".py",
   "mimetype": "text/x-python",
   "name": "python",
   "nbconvert_exporter": "python",
   "pygments_lexer": "ipython3",
   "version": "3.9.7"
  }
 },
 "nbformat": 4,
 "nbformat_minor": 5
}
