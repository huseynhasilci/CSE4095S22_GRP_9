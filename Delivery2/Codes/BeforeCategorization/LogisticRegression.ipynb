{
 "cells": [
  {
   "cell_type": "code",
   "execution_count": 24,
   "id": "822d790d",
   "metadata": {},
   "outputs": [],
   "source": [
    "import pandas as pd\n",
    "from sklearn.feature_extraction.text import CountVectorizer\n",
    "from sklearn.model_selection import train_test_split\n",
    "from sklearn import metrics\n",
    "from nltk.corpus import stopwords\n",
    "from sklearn.feature_extraction.text import TfidfTransformer\n",
    "from sklearn.linear_model import LogisticRegression"
   ]
  },
  {
   "cell_type": "code",
   "execution_count": 25,
   "id": "dd1a9e2a",
   "metadata": {},
   "outputs": [
    {
     "data": {
      "text/html": [
       "<div>\n",
       "<style scoped>\n",
       "    .dataframe tbody tr th:only-of-type {\n",
       "        vertical-align: middle;\n",
       "    }\n",
       "\n",
       "    .dataframe tbody tr th {\n",
       "        vertical-align: top;\n",
       "    }\n",
       "\n",
       "    .dataframe thead th {\n",
       "        text-align: right;\n",
       "    }\n",
       "</style>\n",
       "<table border=\"1\" class=\"dataframe\">\n",
       "  <thead>\n",
       "    <tr style=\"text-align: right;\">\n",
       "      <th></th>\n",
       "      <th>File Name</th>\n",
       "      <th>Label</th>\n",
       "      <th>Text</th>\n",
       "    </tr>\n",
       "  </thead>\n",
       "  <tbody>\n",
       "    <tr>\n",
       "      <th>0</th>\n",
       "      <td>1.json</td>\n",
       "      <td>undefined</td>\n",
       "      <td>Kasten basit yaralama suçundan sanık ...'nin,...</td>\n",
       "    </tr>\n",
       "    <tr>\n",
       "      <th>1</th>\n",
       "      <td>10.json</td>\n",
       "      <td>undefined</td>\n",
       "      <td>Taraflar arasında görülen ve yukarıda açı...</td>\n",
       "    </tr>\n",
       "    <tr>\n",
       "      <th>2</th>\n",
       "      <td>100.json</td>\n",
       "      <td>undefined</td>\n",
       "      <td>(5237 S. K. m. 53) (5271 S. K. m. 288, 289, 2...</td>\n",
       "    </tr>\n",
       "    <tr>\n",
       "      <th>3</th>\n",
       "      <td>1000.json</td>\n",
       "      <td>undefined</td>\n",
       "      <td>BÖLGE ADLİYE MAHKEMESİ:... 5. Hukuk Dairesi  ...</td>\n",
       "    </tr>\n",
       "    <tr>\n",
       "      <th>4</th>\n",
       "      <td>10000.json</td>\n",
       "      <td>undefined</td>\n",
       "      <td>Taraflar arasında görülen davada;  Davacı...</td>\n",
       "    </tr>\n",
       "  </tbody>\n",
       "</table>\n",
       "</div>"
      ],
      "text/plain": [
       "    File Name      Label                                               Text\n",
       "0      1.json  undefined   Kasten basit yaralama suçundan sanık ...'nin,...\n",
       "1     10.json  undefined       Taraflar arasında görülen ve yukarıda açı...\n",
       "2    100.json  undefined   (5237 S. K. m. 53) (5271 S. K. m. 288, 289, 2...\n",
       "3   1000.json  undefined   BÖLGE ADLİYE MAHKEMESİ:... 5. Hukuk Dairesi  ...\n",
       "4  10000.json  undefined       Taraflar arasında görülen davada;  Davacı..."
      ]
     },
     "execution_count": 25,
     "metadata": {},
     "output_type": "execute_result"
    }
   ],
   "source": [
    "path_csv_file = \"C:/Users/murat/Desktop/Nlp_delivery2/data.csv\"\n",
    "\n",
    "df = pd.read_csv(path_csv_file)\n",
    "df.head()"
   ]
  },
  {
   "cell_type": "code",
   "execution_count": 26,
   "id": "293cc5a1",
   "metadata": {},
   "outputs": [
    {
     "data": {
      "text/plain": [
       "undefined                                                                                                                                                                                 12951\n",
       "kasten yaralama                                                                                                                                                                            1485\n",
       "uyuşturucu madde ticareti yapma                                                                                                                                                             693\n",
       "hırsızlık                                                                                                                                                                                   682\n",
       "tehdit                                                                                                                                                                                      612\n",
       "                                                                                                                                                                                          ...  \n",
       "birden fazla kişiyle birlikte tehdit, mala zarar verme                                                                                                                                        1\n",
       "silahla tehdit, tehdit, kasten yaralama                                                                                                                                                       1\n",
       "5015 sayılı kanuna muhalefet, suç işlemek amacıyla örgüt kurma, kurulan örgüte üye olma, örgüte yardım etme, mühür bozma, görevi kötüye kullanma, soruşturmanın gizliliğini ihlal etme        1\n",
       "görevli memura mukavemet, yaralama                                                                                                                                                            1\n",
       "suç işlemek amacıyla örgüt kurmak, suç işlemek amacıyla kurulan örgüte üye olmak, nitelikli dolandırıcılık, özel belgede sahtecilik                                                           1\n",
       "Name: Label, Length: 1759, dtype: int64"
      ]
     },
     "execution_count": 26,
     "metadata": {},
     "output_type": "execute_result"
    }
   ],
   "source": [
    "label_map = {}\n",
    "count = 0\n",
    "for label in df.Label.unique():\n",
    "    label_map[label] = count\n",
    "    count += 1\n",
    "df['NUM_LABEL'] = df.Label.map(label_map)\n",
    "#print(label_map)\n",
    "df.Label.value_counts()"
   ]
  },
  {
   "cell_type": "code",
   "execution_count": 27,
   "id": "96a624aa",
   "metadata": {},
   "outputs": [
    {
     "name": "stdout",
     "output_type": "stream",
     "text": [
      "(22280,)\n",
      "(5571,)\n",
      "(22280,)\n",
      "(5571,)\n"
     ]
    }
   ],
   "source": [
    "texts = df.Text\n",
    "label_nums = df.NUM_LABEL\n",
    "\n",
    "X_train, X_test, y_train, y_test = train_test_split(texts, label_nums, test_size=0.2)\n",
    "\n",
    "print(X_train.shape)\n",
    "print(X_test.shape)\n",
    "print(y_train.shape)\n",
    "print(y_test.shape)"
   ]
  },
  {
   "cell_type": "code",
   "execution_count": 28,
   "id": "5518d1cc",
   "metadata": {},
   "outputs": [],
   "source": [
    "def clean_text(text):\n",
    "    alphabetic_only = [word for word in text.split() if word.isalpha()]\n",
    "    lower_case_only = [word.lower() for word in alphabetic_only]\n",
    "    stopwords_tr = set(stopwords.words(\"turkish\"))\n",
    "    return [word for word in lower_case_only if word not in stopwords_tr]\n"
   ]
  },
  {
   "cell_type": "code",
   "execution_count": 29,
   "id": "b47a7280",
   "metadata": {},
   "outputs": [
    {
     "data": {
      "text/plain": [
       "<22280x48419 sparse matrix of type '<class 'numpy.int64'>'\n",
       "\twith 2771838 stored elements in Compressed Sparse Row format>"
      ]
     },
     "execution_count": 29,
     "metadata": {},
     "output_type": "execute_result"
    }
   ],
   "source": [
    "vect = CountVectorizer(analyzer='word', tokenizer=clean_text)\n",
    "X_train_dtm = vect.fit_transform(X_train.astype(\"U\"))\n",
    "X_train_dtm"
   ]
  },
  {
   "cell_type": "code",
   "execution_count": 30,
   "id": "d112a937",
   "metadata": {},
   "outputs": [
    {
     "data": {
      "text/plain": [
       "<5571x48419 sparse matrix of type '<class 'numpy.int64'>'\n",
       "\twith 691696 stored elements in Compressed Sparse Row format>"
      ]
     },
     "execution_count": 30,
     "metadata": {},
     "output_type": "execute_result"
    }
   ],
   "source": [
    "X_test_dtm = vect.transform(X_test.astype(\"U\"))\n",
    "X_test_dtm"
   ]
  },
  {
   "cell_type": "code",
   "execution_count": 31,
   "id": "0b4bae8b",
   "metadata": {},
   "outputs": [
    {
     "data": {
      "text/plain": [
       "'\\nvect2 = TfidfTransformer()\\nX_train_tfidf = vect2.fit_transform(X_train_dtm.astype(\"U\"))\\nX_train_tfidf\\n'"
      ]
     },
     "execution_count": 31,
     "metadata": {},
     "output_type": "execute_result"
    }
   ],
   "source": [
    "\"\"\"\n",
    "vect2 = TfidfTransformer()\n",
    "X_train_tfidf = vect2.fit_transform(X_train_dtm.astype(\"U\"))\n",
    "X_train_tfidf\n",
    "\"\"\""
   ]
  },
  {
   "cell_type": "code",
   "execution_count": 32,
   "id": "c2f0b7f5",
   "metadata": {},
   "outputs": [
    {
     "data": {
      "text/plain": [
       "'\\nX_test_tfidf = vect2.transform(X_test_dtm.astype(\"U\"))\\nX_test_tfidf\\n'"
      ]
     },
     "execution_count": 32,
     "metadata": {},
     "output_type": "execute_result"
    }
   ],
   "source": [
    "\"\"\"\n",
    "X_test_tfidf = vect2.transform(X_test_dtm.astype(\"U\"))\n",
    "X_test_tfidf\n",
    "\"\"\""
   ]
  },
  {
   "cell_type": "code",
   "execution_count": null,
   "id": "4876905e",
   "metadata": {},
   "outputs": [],
   "source": [
    "model = LogisticRegression(max_iter=1000)\n",
    "model.fit(X_train_dtm, y_train)"
   ]
  },
  {
   "cell_type": "code",
   "execution_count": null,
   "id": "71e0f580",
   "metadata": {},
   "outputs": [],
   "source": [
    "y_pred_class = model.predict(X_test_dtm)\n",
    "metrics.accuracy_score(y_test, y_pred_class)"
   ]
  },
  {
   "cell_type": "code",
   "execution_count": null,
   "id": "07e7cf88",
   "metadata": {},
   "outputs": [],
   "source": []
  }
 ],
 "metadata": {
  "kernelspec": {
   "display_name": "Python 3 (ipykernel)",
   "language": "python",
   "name": "python3"
  },
  "language_info": {
   "codemirror_mode": {
    "name": "ipython",
    "version": 3
   },
   "file_extension": ".py",
   "mimetype": "text/x-python",
   "name": "python",
   "nbconvert_exporter": "python",
   "pygments_lexer": "ipython3",
   "version": "3.9.7"
  }
 },
 "nbformat": 4,
 "nbformat_minor": 5
}
